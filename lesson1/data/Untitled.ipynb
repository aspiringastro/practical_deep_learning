{
 "cells": [
  {
   "cell_type": "code",
   "execution_count": 3,
   "id": "c0fd0c9d-971e-4517-bf6f-df3ff46afb01",
   "metadata": {},
   "outputs": [],
   "source": [
    "import pandas as pd\n",
    "import numpy as np"
   ]
  },
  {
   "cell_type": "code",
   "execution_count": 4,
   "id": "ba89c0ea-f750-4ca3-a70a-231f7c247d20",
   "metadata": {},
   "outputs": [],
   "source": [
    "#Create a simple dataframe\n",
    "df = pd.DataFrame({\n",
    "    'name' :     [ 'Chi', 'Alex', 'Sam', 'Hoang', 'Linh', 'Dung', 'Anh'],\n",
    "    'function' : [ 'Marketing', 'Tech', 'Tech', 'Finance', 'Finance', 'Marketing', 'HR'],\n",
    "    'address' :  [ 'Hanoi', 'Saigon', 'Hanoi', 'Saigon', 'Hanoi', 'Hanoi', 'Saigon'],\n",
    "    'gender' :   ['F', 'M', 'F', 'M', 'M', 'M', 'F'],\n",
    "    'favourite_fruit' : [ 'apple', 'banana', 'orange', 'watermelon', 'grape', np.NAN, 'kumquat'],\n",
    "    'age' : [20,25,21,26,30,31,23]\n",
    "})\n"
   ]
  },
  {
   "cell_type": "code",
   "execution_count": 5,
   "id": "554c15a1-6026-4363-ae8f-e62f13485345",
   "metadata": {},
   "outputs": [
    {
     "data": {
      "text/html": [
       "<div>\n",
       "<style scoped>\n",
       "    .dataframe tbody tr th:only-of-type {\n",
       "        vertical-align: middle;\n",
       "    }\n",
       "\n",
       "    .dataframe tbody tr th {\n",
       "        vertical-align: top;\n",
       "    }\n",
       "\n",
       "    .dataframe thead th {\n",
       "        text-align: right;\n",
       "    }\n",
       "</style>\n",
       "<table border=\"1\" class=\"dataframe\">\n",
       "  <thead>\n",
       "    <tr style=\"text-align: right;\">\n",
       "      <th></th>\n",
       "      <th>name</th>\n",
       "      <th>function</th>\n",
       "      <th>address</th>\n",
       "      <th>gender</th>\n",
       "      <th>favourite_fruit</th>\n",
       "      <th>age</th>\n",
       "    </tr>\n",
       "  </thead>\n",
       "  <tbody>\n",
       "    <tr>\n",
       "      <th>0</th>\n",
       "      <td>Chi</td>\n",
       "      <td>Marketing</td>\n",
       "      <td>Hanoi</td>\n",
       "      <td>F</td>\n",
       "      <td>apple</td>\n",
       "      <td>20</td>\n",
       "    </tr>\n",
       "    <tr>\n",
       "      <th>1</th>\n",
       "      <td>Alex</td>\n",
       "      <td>Tech</td>\n",
       "      <td>Saigon</td>\n",
       "      <td>M</td>\n",
       "      <td>banana</td>\n",
       "      <td>25</td>\n",
       "    </tr>\n",
       "    <tr>\n",
       "      <th>2</th>\n",
       "      <td>Sam</td>\n",
       "      <td>Tech</td>\n",
       "      <td>Hanoi</td>\n",
       "      <td>F</td>\n",
       "      <td>orange</td>\n",
       "      <td>21</td>\n",
       "    </tr>\n",
       "    <tr>\n",
       "      <th>3</th>\n",
       "      <td>Hoang</td>\n",
       "      <td>Finance</td>\n",
       "      <td>Saigon</td>\n",
       "      <td>M</td>\n",
       "      <td>watermelon</td>\n",
       "      <td>26</td>\n",
       "    </tr>\n",
       "    <tr>\n",
       "      <th>4</th>\n",
       "      <td>Linh</td>\n",
       "      <td>Finance</td>\n",
       "      <td>Hanoi</td>\n",
       "      <td>M</td>\n",
       "      <td>grape</td>\n",
       "      <td>30</td>\n",
       "    </tr>\n",
       "  </tbody>\n",
       "</table>\n",
       "</div>"
      ],
      "text/plain": [
       "    name   function address gender favourite_fruit  age\n",
       "0    Chi  Marketing   Hanoi      F           apple   20\n",
       "1   Alex       Tech  Saigon      M          banana   25\n",
       "2    Sam       Tech   Hanoi      F          orange   21\n",
       "3  Hoang    Finance  Saigon      M      watermelon   26\n",
       "4   Linh    Finance   Hanoi      M           grape   30"
      ]
     },
     "execution_count": 5,
     "metadata": {},
     "output_type": "execute_result"
    }
   ],
   "source": [
    "df.head()"
   ]
  },
  {
   "cell_type": "code",
   "execution_count": 29,
   "id": "c900d662-2ab0-4c21-81c9-e1d8b4c3704a",
   "metadata": {},
   "outputs": [
    {
     "data": {
      "text/plain": [
       "['banana']"
      ]
     },
     "execution_count": 29,
     "metadata": {},
     "output_type": "execute_result"
    }
   ],
   "source": [
    "df[df['name'] == 'Alex']['favourite_fruit'].values.tolist()"
   ]
  },
  {
   "cell_type": "code",
   "execution_count": null,
   "id": "4c4d4507-89c7-46e3-b0ff-f88bf363183f",
   "metadata": {},
   "outputs": [],
   "source": []
  }
 ],
 "metadata": {
  "kernelspec": {
   "display_name": "Python 3 (ipykernel)",
   "language": "python",
   "name": "python3"
  },
  "language_info": {
   "codemirror_mode": {
    "name": "ipython",
    "version": 3
   },
   "file_extension": ".py",
   "mimetype": "text/x-python",
   "name": "python",
   "nbconvert_exporter": "python",
   "pygments_lexer": "ipython3",
   "version": "3.8.2"
  }
 },
 "nbformat": 4,
 "nbformat_minor": 5
}
