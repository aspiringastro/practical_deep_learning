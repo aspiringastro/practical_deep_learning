{
 "cells": [
  {
   "cell_type": "code",
   "execution_count": 4,
   "id": "74750d4b-8145-4063-84f4-88ac6405c2f2",
   "metadata": {},
   "outputs": [],
   "source": [
    "from fastai.basics import *"
   ]
  },
  {
   "cell_type": "code",
   "execution_count": 5,
   "id": "9cfcfd67-cf03-45f4-ad4e-c2950d5b08eb",
   "metadata": {},
   "outputs": [
    {
     "name": "stderr",
     "output_type": "stream",
     "text": [
      "2023-01-10 18:56:45,796 WARNING Retrying (Retry(total=2, connect=None, read=None, redirect=None, status=None)) after connection broken by 'ProtocolError('Connection aborted.', RemoteDisconnected('Remote end closed connection without response'))': /api/v1/competitions/data/download-all/titanic\n",
      "2023-01-10 18:56:46,403 WARNING Retrying (Retry(total=1, connect=None, read=None, redirect=None, status=None)) after connection broken by 'ProtocolError('Connection aborted.', RemoteDisconnected('Remote end closed connection without response'))': /kaggle-competitions-data/kaggle-v2/3136/26502/bundle/archive.zip?GoogleAccessId=web-data@kaggle-161607.iam.gserviceaccount.com&Expires=1673665006&Signature=QzSS5JItPE8oZIYNXDF42F5jrvNVlP4f1NaAy6XCg44dQ7qyDc68XD3J9PpNAhID98CeL19OrH7s1ps8OrmPcxduH3NL%2B2%2F3MW3RiPCIIllZ945J5668rp%2BGD6kOBgN9%2FoAv8NPgx4PiXVt2KncvoWxnNMhT31NN3GUa%2FZeEUzPX1RzHwt47U9y3XuurExtMl1ao0JlGNq6tCYHuSAeGAjFvyAydpoNufv6fw7fYy%2FfVarlJBPRJZ1kkc5zkKXSV1MBw8Y0vc2%2FzJnlymj35kgn3ZbZSV6lv3buZxXiPP2b7R6cJ9ADySiZ15NLyk4I2nAyb06Ekn1bm27zilNtiVw%3D%3D&response-content-disposition=attachment%3B+filename%3Dtitanic.zip\n"
     ]
    },
    {
     "name": "stdout",
     "output_type": "stream",
     "text": [
      "titanic.zip: Skipping, found more recently modified local copy (use --force to force download)\n"
     ]
    }
   ],
   "source": [
    "import os\n",
    "from pathlib import Path\n",
    "iskaggle = os.environ.get('KAGGLE_KERNEL_RUN_TYPE', '')\n",
    "\n",
    "if iskaggle: path = Path('../input/titanic')\n",
    "else:\n",
    "    import zipfile,kaggle\n",
    "    path = Path('titanic')\n",
    "    kaggle.api.competition_download_cli(str(path))\n",
    "    zipfile.ZipFile(f'{path}.zip').extractall(path)\n",
    "\n",
    "df = pd.read_csv(path/'train.csv')\n",
    "tst_df = pd.read_csv(path/'test.csv')\n",
    "modes = df.mode().iloc[0]"
   ]
  },
  {
   "cell_type": "code",
   "execution_count": 6,
   "id": "24cdefaa-5d0e-42f6-a43b-dc62d7791236",
   "metadata": {},
   "outputs": [
    {
     "data": {
      "text/html": [
       "<div>\n",
       "<style scoped>\n",
       "    .dataframe tbody tr th:only-of-type {\n",
       "        vertical-align: middle;\n",
       "    }\n",
       "\n",
       "    .dataframe tbody tr th {\n",
       "        vertical-align: top;\n",
       "    }\n",
       "\n",
       "    .dataframe thead th {\n",
       "        text-align: right;\n",
       "    }\n",
       "</style>\n",
       "<table border=\"1\" class=\"dataframe\">\n",
       "  <thead>\n",
       "    <tr style=\"text-align: right;\">\n",
       "      <th></th>\n",
       "      <th>PassengerId</th>\n",
       "      <th>Survived</th>\n",
       "      <th>Pclass</th>\n",
       "      <th>Name</th>\n",
       "      <th>Sex</th>\n",
       "      <th>Age</th>\n",
       "      <th>SibSp</th>\n",
       "      <th>Parch</th>\n",
       "      <th>Ticket</th>\n",
       "      <th>Fare</th>\n",
       "      <th>Cabin</th>\n",
       "      <th>Embarked</th>\n",
       "    </tr>\n",
       "  </thead>\n",
       "  <tbody>\n",
       "    <tr>\n",
       "      <th>0</th>\n",
       "      <td>1</td>\n",
       "      <td>0</td>\n",
       "      <td>3</td>\n",
       "      <td>Braund, Mr. Owen Harris</td>\n",
       "      <td>male</td>\n",
       "      <td>22.0</td>\n",
       "      <td>1</td>\n",
       "      <td>0</td>\n",
       "      <td>A/5 21171</td>\n",
       "      <td>7.2500</td>\n",
       "      <td>NaN</td>\n",
       "      <td>S</td>\n",
       "    </tr>\n",
       "    <tr>\n",
       "      <th>1</th>\n",
       "      <td>2</td>\n",
       "      <td>1</td>\n",
       "      <td>1</td>\n",
       "      <td>Cumings, Mrs. John Bradley (Florence Briggs Thayer)</td>\n",
       "      <td>female</td>\n",
       "      <td>38.0</td>\n",
       "      <td>1</td>\n",
       "      <td>0</td>\n",
       "      <td>PC 17599</td>\n",
       "      <td>71.2833</td>\n",
       "      <td>C85</td>\n",
       "      <td>C</td>\n",
       "    </tr>\n",
       "    <tr>\n",
       "      <th>2</th>\n",
       "      <td>3</td>\n",
       "      <td>1</td>\n",
       "      <td>3</td>\n",
       "      <td>Heikkinen, Miss. Laina</td>\n",
       "      <td>female</td>\n",
       "      <td>26.0</td>\n",
       "      <td>0</td>\n",
       "      <td>0</td>\n",
       "      <td>STON/O2. 3101282</td>\n",
       "      <td>7.9250</td>\n",
       "      <td>NaN</td>\n",
       "      <td>S</td>\n",
       "    </tr>\n",
       "    <tr>\n",
       "      <th>3</th>\n",
       "      <td>4</td>\n",
       "      <td>1</td>\n",
       "      <td>1</td>\n",
       "      <td>Futrelle, Mrs. Jacques Heath (Lily May Peel)</td>\n",
       "      <td>female</td>\n",
       "      <td>35.0</td>\n",
       "      <td>1</td>\n",
       "      <td>0</td>\n",
       "      <td>113803</td>\n",
       "      <td>53.1000</td>\n",
       "      <td>C123</td>\n",
       "      <td>S</td>\n",
       "    </tr>\n",
       "    <tr>\n",
       "      <th>4</th>\n",
       "      <td>5</td>\n",
       "      <td>0</td>\n",
       "      <td>3</td>\n",
       "      <td>Allen, Mr. William Henry</td>\n",
       "      <td>male</td>\n",
       "      <td>35.0</td>\n",
       "      <td>0</td>\n",
       "      <td>0</td>\n",
       "      <td>373450</td>\n",
       "      <td>8.0500</td>\n",
       "      <td>NaN</td>\n",
       "      <td>S</td>\n",
       "    </tr>\n",
       "  </tbody>\n",
       "</table>\n",
       "</div>"
      ],
      "text/plain": [
       "   PassengerId  Survived  Pclass  \\\n",
       "0            1         0       3   \n",
       "1            2         1       1   \n",
       "2            3         1       3   \n",
       "3            4         1       1   \n",
       "4            5         0       3   \n",
       "\n",
       "                                                  Name     Sex   Age  SibSp  \\\n",
       "0                              Braund, Mr. Owen Harris    male  22.0      1   \n",
       "1  Cumings, Mrs. John Bradley (Florence Briggs Thayer)  female  38.0      1   \n",
       "2                               Heikkinen, Miss. Laina  female  26.0      0   \n",
       "3         Futrelle, Mrs. Jacques Heath (Lily May Peel)  female  35.0      1   \n",
       "4                             Allen, Mr. William Henry    male  35.0      0   \n",
       "\n",
       "   Parch            Ticket     Fare Cabin Embarked  \n",
       "0      0         A/5 21171   7.2500   NaN        S  \n",
       "1      0          PC 17599  71.2833   C85        C  \n",
       "2      0  STON/O2. 3101282   7.9250   NaN        S  \n",
       "3      0            113803  53.1000  C123        S  \n",
       "4      0            373450   8.0500   NaN        S  "
      ]
     },
     "execution_count": 6,
     "metadata": {},
     "output_type": "execute_result"
    }
   ],
   "source": [
    "df.head()"
   ]
  },
  {
   "cell_type": "code",
   "execution_count": 7,
   "id": "13a40f15-8f4b-4de9-b5f5-0cc408db031e",
   "metadata": {},
   "outputs": [],
   "source": [
    "def proc_data(df):\n",
    "    df['Fare'] = df.Fare.fillna(0)\n",
    "    df.fillna(modes, inplace=True)\n",
    "    df['LogFare'] = np.log1p(df['Fare'])\n",
    "    df['Embarked'] = pd.Categorical(df.Embarked)\n",
    "    df['Sex'] = pd.Categorical(df.Sex)\n",
    "\n",
    "proc_data(df)\n",
    "proc_data(tst_df)"
   ]
  },
  {
   "cell_type": "code",
   "execution_count": 8,
   "id": "92a0a670-7a59-4846-a070-1ba280c3dbdc",
   "metadata": {},
   "outputs": [],
   "source": [
    "# Categorical variables\n",
    "cats=[\"Sex\",\"Embarked\"]\n",
    "\n",
    "# Continuous variables\n",
    "conts=['Age', 'SibSp', 'Parch', 'LogFare',\"Pclass\"]\n",
    "\n",
    "dep=\"Survived\""
   ]
  },
  {
   "cell_type": "code",
   "execution_count": 9,
   "id": "60f25a28-46d5-43c2-b222-98cbd7e65a34",
   "metadata": {},
   "outputs": [
    {
     "data": {
      "text/plain": [
       "0      male\n",
       "1    female\n",
       "2    female\n",
       "3    female\n",
       "4      male\n",
       "Name: Sex, dtype: category\n",
       "Categories (2, object): ['female', 'male']"
      ]
     },
     "execution_count": 9,
     "metadata": {},
     "output_type": "execute_result"
    }
   ],
   "source": [
    "df.Sex.head()"
   ]
  },
  {
   "cell_type": "code",
   "execution_count": 10,
   "id": "59833e0d-dfea-4392-b979-1957584b4759",
   "metadata": {},
   "outputs": [
    {
     "data": {
      "text/plain": [
       "0    1\n",
       "1    0\n",
       "2    0\n",
       "3    0\n",
       "4    1\n",
       "dtype: int8"
      ]
     },
     "execution_count": 10,
     "metadata": {},
     "output_type": "execute_result"
    }
   ],
   "source": [
    "df.Sex.cat.codes.head()"
   ]
  },
  {
   "cell_type": "code",
   "execution_count": 11,
   "id": "372a71eb-4d03-4335-abf6-9a6e30b2a148",
   "metadata": {},
   "outputs": [
    {
     "data": {
      "image/png": "[encoded data removed]",
      "text/plain": [
       "<Figure size 1100x500 with 2 Axes>"
      ]
     },
     "metadata": {},
     "output_type": "display_data"
    }
   ],
   "source": [
    "import seaborn as sns\n",
    "\n",
    "fig,axs = plt.subplots(1,2, figsize=(11,5))\n",
    "sns.barplot(data=df, y=dep, x=\"Sex\", ax=axs[0]).set(title=\"Survival rate\")\n",
    "sns.countplot(data=df, x=\"Sex\", ax=axs[1]).set(title=\"Histogram\");"
   ]
  },
  {
   "cell_type": "code",
   "execution_count": 13,
   "id": "73fcb616-8b3a-4b68-95ca-de0af9a71360",
   "metadata": {},
   "outputs": [
    {
     "data": {
      "image/png": "[encoded data removed]",
      "text/plain": [
       "<Figure size 1100x500 with 2 Axes>"
      ]
     },
     "metadata": {},
     "output_type": "display_data"
    }
   ],
   "source": [
    "fig,axs = plt.subplots(1,2, figsize=(11,5))\n",
    "sns.barplot(data=df, y=dep, x=\"SibSp\", ax=axs[0]).set(title=\"Survival rate\")\n",
    "sns.countplot(data=df, x=\"SibSp\", ax=axs[1]).set(title=\"Histogram\");"
   ]
  },
  {
   "cell_type": "code",
   "execution_count": 14,
   "id": "cd178e09-6d1b-4db6-bac0-29d7ee1ee710",
   "metadata": {},
   "outputs": [],
   "source": [
    "from numpy import random\n",
    "from sklearn.model_selection import train_test_split\n",
    "\n",
    "random.seed(42)\n",
    "trn_df,val_df = train_test_split(df, test_size=0.25)\n",
    "trn_df[cats] = trn_df[cats].apply(lambda x: x.cat.codes)\n",
    "val_df[cats] = val_df[cats].apply(lambda x: x.cat.codes)"
   ]
  },
  {
   "cell_type": "code",
   "execution_count": 15,
   "id": "86de7c38-dccc-4a1c-8710-dc7d31517448",
   "metadata": {},
   "outputs": [],
   "source": [
    "def xs_y(df):\n",
    "    xs = df[cats+conts].copy()\n",
    "    return xs,df[dep] if dep in df else None\n",
    "\n",
    "trn_xs,trn_y = xs_y(trn_df)\n",
    "val_xs,val_y = xs_y(val_df)"
   ]
  },
  {
   "cell_type": "code",
   "execution_count": 16,
   "id": "a1a7a4b9-8978-4e28-9c73-8c9184a3d15e",
   "metadata": {},
   "outputs": [],
   "source": [
    "preds = val_xs.Sex==0"
   ]
  },
  {
   "cell_type": "code",
   "execution_count": 17,
   "id": "413c48c8-bd1a-4085-b884-786acc0ff8e6",
   "metadata": {},
   "outputs": [
    {
     "data": {
      "text/plain": [
       "0.21524663677130046"
      ]
     },
     "execution_count": 17,
     "metadata": {},
     "output_type": "execute_result"
    }
   ],
   "source": [
    "from sklearn.metrics import mean_absolute_error\n",
    "mean_absolute_error(val_y, preds)"
   ]
  },
  {
   "cell_type": "code",
   "execution_count": 18,
   "id": "2c7864cb-4d33-4206-b995-bc125d74628b",
   "metadata": {},
   "outputs": [
    {
     "data": {
      "image/png": "[encoded data removed]",
      "text/plain": [
       "<Figure size 1100x500 with 2 Axes>"
      ]
     },
     "metadata": {},
     "output_type": "display_data"
    }
   ],
   "source": [
    "df_fare = trn_df[trn_df.LogFare>0]\n",
    "fig,axs = plt.subplots(1,2, figsize=(11,5))\n",
    "sns.boxenplot(data=df_fare, x=dep, y=\"LogFare\", ax=axs[0])\n",
    "sns.kdeplot(data=df_fare, x=\"LogFare\", ax=axs[1]);"
   ]
  },
  {
   "cell_type": "code",
   "execution_count": 21,
   "id": "8c4cfcc6-87c7-407c-9f01-360aa1df993c",
   "metadata": {},
   "outputs": [
    {
     "data": {
      "image/png": "[encoded data removed]",
      "text/plain": [
       "<Figure size 1100x500 with 2 Axes>"
      ]
     },
     "metadata": {},
     "output_type": "display_data"
    }
   ],
   "source": [
    "df_fare = trn_df[trn_df.Age>32]\n",
    "fig,axs = plt.subplots(1,2, figsize=(11,5))\n",
    "sns.boxenplot(data=df_fare, x=dep, y=\"Age\", ax=axs[0])\n",
    "sns.kdeplot(data=df_fare, x=\"Age\", ax=axs[1]);"
   ]
  },
  {
   "cell_type": "code",
   "execution_count": 22,
   "id": "fb7e7e8a-bd53-4d4d-95be-029cc54aa4e8",
   "metadata": {},
   "outputs": [],
   "source": [
    "preds = val_xs.LogFare>2.7"
   ]
  },
  {
   "cell_type": "code",
   "execution_count": 23,
   "id": "198c9f7d-c286-478e-ace1-e86dc675ca9a",
   "metadata": {},
   "outputs": [
    {
     "data": {
      "text/plain": [
       "0.336322869955157"
      ]
     },
     "execution_count": 23,
     "metadata": {},
     "output_type": "execute_result"
    }
   ],
   "source": [
    "mean_absolute_error(val_y, preds)"
   ]
  },
  {
   "cell_type": "code",
   "execution_count": 24,
   "id": "2337c679-a672-487e-a663-62310c30807a",
   "metadata": {},
   "outputs": [],
   "source": [
    "def _side_score(side, y):\n",
    "    tot = side.sum()\n",
    "    if tot<=1: return 0\n",
    "    return y[side].std()*tot"
   ]
  },
  {
   "cell_type": "code",
   "execution_count": 25,
   "id": "5df494b7-1999-4c17-9c45-10f3b0f4ff11",
   "metadata": {},
   "outputs": [],
   "source": [
    "def score(col, y, split):\n",
    "    lhs = col<=split\n",
    "    return (_side_score(lhs,y) + _side_score(~lhs,y))/len(y)"
   ]
  },
  {
   "cell_type": "code",
   "execution_count": 26,
   "id": "50bff69a-5f06-407b-84a5-1faada93cb1f",
   "metadata": {},
   "outputs": [
    {
     "data": {
      "text/plain": [
       "0.40787530982063946"
      ]
     },
     "execution_count": 26,
     "metadata": {},
     "output_type": "execute_result"
    }
   ],
   "source": [
    "score(trn_xs[\"Sex\"], trn_y, 0.5)"
   ]
  },
  {
   "cell_type": "code",
   "execution_count": 33,
   "id": "1ccdda91-6196-4138-b97d-729aa35589ae",
   "metadata": {},
   "outputs": [
    {
     "data": {
      "text/plain": [
       "0.4854373192013831"
      ]
     },
     "execution_count": 33,
     "metadata": {},
     "output_type": "execute_result"
    }
   ],
   "source": [
    "score(trn_xs[\"Age\"], trn_y, 0.20)"
   ]
  },
  {
   "cell_type": "code",
   "execution_count": 32,
   "id": "84db9c72-9c2b-4e79-b9a8-b6c1e114b0e0",
   "metadata": {},
   "outputs": [
    {
     "data": {
      "text/plain": [
       "0.47180873952099694"
      ]
     },
     "execution_count": 32,
     "metadata": {},
     "output_type": "execute_result"
    }
   ],
   "source": [
    "score(trn_xs[\"LogFare\"], trn_y, 2.7)"
   ]
  },
  {
   "cell_type": "code",
   "execution_count": 34,
   "id": "b4ea5068-6161-43ff-b769-0d9ddab262e8",
   "metadata": {},
   "outputs": [
    {
     "data": {
      "application/vnd.jupyter.widget-view+json": {
       "model_id": "dfc1c45afe104c73bd2e80f3f9903df1",
       "version_major": 2,
       "version_minor": 0
      },
      "text/plain": [
       "interactive(children=(Dropdown(description='nm', options=('Age', 'SibSp', 'Parch', 'LogFare', 'Pclass'), value…"
      ]
     },
     "metadata": {},
     "output_type": "display_data"
    }
   ],
   "source": [
    "def iscore(nm, split):\n",
    "    col = trn_xs[nm]\n",
    "    return score(col, trn_y, split)\n",
    "\n",
    "from ipywidgets import interact\n",
    "interact(nm=conts, split=15.5)(iscore);"
   ]
  },
  {
   "cell_type": "code",
   "execution_count": 35,
   "id": "2e094604-ed2b-41c2-8f9b-ce98866389ad",
   "metadata": {},
   "outputs": [
    {
     "data": {
      "application/vnd.jupyter.widget-view+json": {
       "model_id": "2f09d5b7bd1b44ccb3441a25d808c432",
       "version_major": 2,
       "version_minor": 0
      },
      "text/plain": [
       "interactive(children=(Dropdown(description='nm', options=('Sex', 'Embarked'), value='Sex'), IntSlider(value=2,…"
      ]
     },
     "metadata": {},
     "output_type": "display_data"
    }
   ],
   "source": [
    "interact(nm=cats, split=2)(iscore);"
   ]
  },
  {
   "cell_type": "code",
   "execution_count": 36,
   "id": "c4d1c1e6-75a8-4cfa-9139-d3d098f364af",
   "metadata": {},
   "outputs": [
    {
     "data": {
      "text/plain": [
       "array([ 0.42,  0.67,  0.75,  0.83,  0.92,  1.  ,  2.  ,  3.  ,  4.  ,\n",
       "        5.  ,  6.  ,  7.  ,  8.  ,  9.  , 10.  , 11.  , 12.  , 13.  ,\n",
       "       14.  , 14.5 , 15.  , 16.  , 17.  , 18.  , 19.  , 20.  , 21.  ,\n",
       "       22.  , 23.  , 24.  , 24.5 , 25.  , 26.  , 27.  , 28.  , 28.5 ,\n",
       "       29.  , 30.  , 31.  , 32.  , 32.5 , 33.  , 34.  , 34.5 , 35.  ,\n",
       "       36.  , 36.5 , 37.  , 38.  , 39.  , 40.  , 40.5 , 41.  , 42.  ,\n",
       "       43.  , 44.  , 45.  , 45.5 , 46.  , 47.  , 48.  , 49.  , 50.  ,\n",
       "       51.  , 52.  , 53.  , 54.  , 55.  , 55.5 , 56.  , 57.  , 58.  ,\n",
       "       59.  , 60.  , 61.  , 62.  , 64.  , 65.  , 70.  , 70.5 , 74.  ,\n",
       "       80.  ])"
      ]
     },
     "execution_count": 36,
     "metadata": {},
     "output_type": "execute_result"
    }
   ],
   "source": [
    "nm = \"Age\"\n",
    "col = trn_xs[nm]\n",
    "unq = col.unique()\n",
    "unq.sort()\n",
    "unq"
   ]
  },
  {
   "cell_type": "code",
   "execution_count": 37,
   "id": "35dade62-0c38-4507-8d85-98e12473eba7",
   "metadata": {},
   "outputs": [
    {
     "data": {
      "text/plain": [
       "6.0"
      ]
     },
     "execution_count": 37,
     "metadata": {},
     "output_type": "execute_result"
    }
   ],
   "source": [
    "scores = np.array([score(col, trn_y, o) for o in unq if not np.isnan(o)])\n",
    "unq[scores.argmin()]\n"
   ]
  },
  {
   "cell_type": "code",
   "execution_count": 38,
   "id": "4038e1ef-72b1-4cc9-99a1-19a469429412",
   "metadata": {},
   "outputs": [
    {
     "data": {
      "text/plain": [
       "(6.0, 0.478316717508991)"
      ]
     },
     "execution_count": 38,
     "metadata": {},
     "output_type": "execute_result"
    }
   ],
   "source": [
    "def min_col(df, nm):\n",
    "    col,y = df[nm],df[dep]\n",
    "    unq = col.dropna().unique()\n",
    "    scores = np.array([score(col, y, o) for o in unq if not np.isnan(o)])\n",
    "    idx = scores.argmin()\n",
    "    return unq[idx],scores[idx]\n",
    "\n",
    "min_col(trn_df, \"Age\")"
   ]
  },
  {
   "cell_type": "code",
   "execution_count": 39,
   "id": "34d3d96f-86e6-483f-b2b0-ddc45eab2b09",
   "metadata": {},
   "outputs": [
    {
     "data": {
      "text/plain": [
       "{'Sex': (0, 0.40787530982063946),\n",
       " 'Embarked': (0, 0.47883342573147836),\n",
       " 'Age': (6.0, 0.478316717508991),\n",
       " 'SibSp': (4, 0.4783740258817434),\n",
       " 'Parch': (0, 0.4805296527841601),\n",
       " 'LogFare': (2.4390808375825834, 0.4620823937736597),\n",
       " 'Pclass': (2, 0.46048261885806596)}"
      ]
     },
     "execution_count": 39,
     "metadata": {},
     "output_type": "execute_result"
    }
   ],
   "source": [
    "cols = cats+conts\n",
    "{o:min_col(trn_df, o) for o in cols}"
   ]
  },
  {
   "cell_type": "code",
   "execution_count": 40,
   "id": "54373755-10bf-4c57-bcfc-54c5fce5c840",
   "metadata": {},
   "outputs": [],
   "source": [
    "cols.remove(\"Sex\")\n",
    "ismale = trn_df.Sex==1\n",
    "males,females = trn_df[ismale],trn_df[~ismale]"
   ]
  },
  {
   "cell_type": "code",
   "execution_count": 41,
   "id": "8d853b92-8805-44d3-9f91-d913124620b0",
   "metadata": {},
   "outputs": [
    {
     "data": {
      "text/plain": [
       "{'Embarked': (0, 0.3875581870410906),\n",
       " 'Age': (6.0, 0.3739828371010595),\n",
       " 'SibSp': (4, 0.3875864227586273),\n",
       " 'Parch': (0, 0.3874704821461959),\n",
       " 'LogFare': (2.803360380906535, 0.3804856231758151),\n",
       " 'Pclass': (1, 0.38155442004360934)}"
      ]
     },
     "execution_count": 41,
     "metadata": {},
     "output_type": "execute_result"
    }
   ],
   "source": [
    "{o:min_col(males, o) for o in cols}"
   ]
  },
  {
   "cell_type": "code",
   "execution_count": 42,
   "id": "ba1ce8dc-2c88-4d76-9d55-89cff16f71a5",
   "metadata": {},
   "outputs": [
    {
     "data": {
      "text/plain": [
       "{'Embarked': (0, 0.4295252982857327),\n",
       " 'Age': (50.0, 0.4225927658431649),\n",
       " 'SibSp': (4, 0.42319212059713535),\n",
       " 'Parch': (3, 0.4193314500446158),\n",
       " 'LogFare': (4.256321678298823, 0.41350598332911376),\n",
       " 'Pclass': (2, 0.3335388911567601)}"
      ]
     },
     "execution_count": 42,
     "metadata": {},
     "output_type": "execute_result"
    }
   ],
   "source": [
    "{o:min_col(females, o) for o in cols}"
   ]
  },
  {
   "cell_type": "code",
   "execution_count": 43,
   "id": "114753e7-3a0a-45ec-9f73-e1f7b11bcc13",
   "metadata": {},
   "outputs": [],
   "source": [
    "from sklearn.tree import DecisionTreeClassifier, export_graphviz\n",
    "\n",
    "m = DecisionTreeClassifier(max_leaf_nodes=4).fit(trn_xs, trn_y);"
   ]
  },
  {
   "cell_type": "code",
   "execution_count": 44,
   "id": "4920b937-1160-49c9-833d-77a3c014c643",
   "metadata": {},
   "outputs": [],
   "source": [
    "import graphviz\n",
    "\n",
    "def draw_tree(t, df, size=10, ratio=0.6, precision=2, **kwargs):\n",
    "    s=export_graphviz(t, out_file=None, feature_names=df.columns, filled=True, rounded=True,\n",
    "                      special_characters=True, rotate=False, precision=precision, **kwargs)\n",
    "    return graphviz.Source(re.sub('Tree {', f'Tree {{ size={size}; ratio={ratio}', s))"
   ]
  },
  {
   "cell_type": "code",
   "execution_count": 45,
   "id": "b1222775-7b05-4700-96d2-8f03b316cae3",
   "metadata": {},
   "outputs": [
    {
     "data": {
      "image/svg+xml": [
       "<?xml version=\"1.0\" encoding=\"UTF-8\" standalone=\"no\"?>\n",
       "<!DOCTYPE svg PUBLIC \"-//W3C//DTD SVG 1.1//EN\"\n",
       " \"http://www.w3.org/Graphics/SVG/1.1/DTD/svg11.dtd\">\n",
       "<!-- Generated by graphviz version 7.0.0 (20221023.0053)\n",
       " -->\n",
       "<!-- Title: Tree Pages: 1 -->\n",
       "<svg width=\"507pt\" height=\"307pt\"\n",
       " viewBox=\"0.00 0.00 506.50 306.80\" xmlns=\"http://www.w3.org/2000/svg\" xmlns:xlink=\"http://www.w3.org/1999/xlink\">\n",
       "<g id=\"graph0\" class=\"graph\" transform=\"scale(1 1) rotate(0) translate(4 302.8)\">\n",
       "<title>Tree</title>\n",
       "<polygon fill=\"white\" stroke=\"none\" points=\"-4,4 -4,-302.8 502.5,-302.8 502.5,4 -4,4\"/>\n",
       "<!-- 0 -->\n",
       "<g id=\"node1\" class=\"node\">\n",
       "<title>0</title>\n",
       "<path fill=\"#f5ceb2\" stroke=\"black\" d=\"M297.5,-294C297.5,-294 196.5,-294 196.5,-294 190.5,-294 184.5,-288 184.5,-282 184.5,-282 184.5,-238 184.5,-238 184.5,-232 190.5,-226 196.5,-226 196.5,-226 297.5,-226 297.5,-226 303.5,-226 309.5,-232 309.5,-238 309.5,-238 309.5,-282 309.5,-282 309.5,-288 303.5,-294 297.5,-294\"/>\n",
       "<text text-anchor=\"start\" x=\"218\" y=\"-278.8\" font-family=\"Helvetica,sans-Serif\" font-size=\"14.00\">Sex ≤ 0.5</text>\n",
       "<text text-anchor=\"start\" x=\"215\" y=\"-263.8\" font-family=\"Helvetica,sans-Serif\" font-size=\"14.00\">gini = 0.47</text>\n",
       "<text text-anchor=\"start\" x=\"202\" y=\"-248.8\" font-family=\"Helvetica,sans-Serif\" font-size=\"14.00\">samples = 668</text>\n",
       "<text text-anchor=\"start\" x=\"192.5\" y=\"-233.8\" font-family=\"Helvetica,sans-Serif\" font-size=\"14.00\">value = [415, 253]</text>\n",
       "</g>\n",
       "<!-- 1 -->\n",
       "<g id=\"node2\" class=\"node\">\n",
       "<title>1</title>\n",
       "<path fill=\"#7ebfee\" stroke=\"black\" d=\"M226.5,-175C226.5,-175 133.5,-175 133.5,-175 127.5,-175 121.5,-169 121.5,-163 121.5,-163 121.5,-119 121.5,-119 121.5,-113 127.5,-107 133.5,-107 133.5,-107 226.5,-107 226.5,-107 232.5,-107 238.5,-113 238.5,-119 238.5,-119 238.5,-163 238.5,-163 238.5,-169 232.5,-175 226.5,-175\"/>\n",
       "<text text-anchor=\"start\" x=\"143\" y=\"-159.8\" font-family=\"Helvetica,sans-Serif\" font-size=\"14.00\">Pclass ≤ 2.5</text>\n",
       "<text text-anchor=\"start\" x=\"148\" y=\"-144.8\" font-family=\"Helvetica,sans-Serif\" font-size=\"14.00\">gini = 0.38</text>\n",
       "<text text-anchor=\"start\" x=\"135\" y=\"-129.8\" font-family=\"Helvetica,sans-Serif\" font-size=\"14.00\">samples = 229</text>\n",
       "<text text-anchor=\"start\" x=\"129.5\" y=\"-114.8\" font-family=\"Helvetica,sans-Serif\" font-size=\"14.00\">value = [59, 170]</text>\n",
       "</g>\n",
       "<!-- 0&#45;&gt;1 -->\n",
       "<g id=\"edge1\" class=\"edge\">\n",
       "<title>0&#45;&gt;1</title>\n",
       "<path fill=\"none\" stroke=\"black\" d=\"M227.98,-225.79C220.77,-213.19 212.44,-198.65 204.77,-185.26\"/>\n",
       "<polygon fill=\"black\" stroke=\"black\" points=\"207.83,-183.55 199.82,-176.61 201.75,-187.03 207.83,-183.55\"/>\n",
       "<text text-anchor=\"middle\" x=\"192.51\" y=\"-195.72\" font-family=\"Helvetica,sans-Serif\" font-size=\"14.00\">True</text>\n",
       "</g>\n",
       "<!-- 2 -->\n",
       "<g id=\"node5\" class=\"node\">\n",
       "<title>2</title>\n",
       "<path fill=\"#eb9e67\" stroke=\"black\" d=\"M361.5,-175C361.5,-175 268.5,-175 268.5,-175 262.5,-175 256.5,-169 256.5,-163 256.5,-163 256.5,-119 256.5,-119 256.5,-113 262.5,-107 268.5,-107 268.5,-107 361.5,-107 361.5,-107 367.5,-107 373.5,-113 373.5,-119 373.5,-119 373.5,-163 373.5,-163 373.5,-169 367.5,-175 361.5,-175\"/>\n",
       "<text text-anchor=\"start\" x=\"286\" y=\"-159.8\" font-family=\"Helvetica,sans-Serif\" font-size=\"14.00\">Age ≤ 6.5</text>\n",
       "<text text-anchor=\"start\" x=\"283\" y=\"-144.8\" font-family=\"Helvetica,sans-Serif\" font-size=\"14.00\">gini = 0.31</text>\n",
       "<text text-anchor=\"start\" x=\"270\" y=\"-129.8\" font-family=\"Helvetica,sans-Serif\" font-size=\"14.00\">samples = 439</text>\n",
       "<text text-anchor=\"start\" x=\"264.5\" y=\"-114.8\" font-family=\"Helvetica,sans-Serif\" font-size=\"14.00\">value = [356, 83]</text>\n",
       "</g>\n",
       "<!-- 0&#45;&gt;2 -->\n",
       "<g id=\"edge4\" class=\"edge\">\n",
       "<title>0&#45;&gt;2</title>\n",
       "<path fill=\"none\" stroke=\"black\" d=\"M266.3,-225.79C273.7,-213.06 282.24,-198.37 290.08,-184.87\"/>\n",
       "<polygon fill=\"black\" stroke=\"black\" points=\"292.89,-187.01 294.89,-176.61 286.84,-183.49 292.89,-187.01\"/>\n",
       "<text text-anchor=\"middle\" x=\"302.05\" y=\"-195.76\" font-family=\"Helvetica,sans-Serif\" font-size=\"14.00\">False</text>\n",
       "</g>\n",
       "<!-- 3 -->\n",
       "<g id=\"node3\" class=\"node\">\n",
       "<title>3</title>\n",
       "<path fill=\"#40a0e6\" stroke=\"black\" d=\"M98,-56.5C98,-56.5 12,-56.5 12,-56.5 6,-56.5 0,-50.5 0,-44.5 0,-44.5 0,-15.5 0,-15.5 0,-9.5 6,-3.5 12,-3.5 12,-3.5 98,-3.5 98,-3.5 104,-3.5 110,-9.5 110,-15.5 110,-15.5 110,-44.5 110,-44.5 110,-50.5 104,-56.5 98,-56.5\"/>\n",
       "<text text-anchor=\"start\" x=\"23\" y=\"-41.3\" font-family=\"Helvetica,sans-Serif\" font-size=\"14.00\">gini = 0.06</text>\n",
       "<text text-anchor=\"start\" x=\"10\" y=\"-26.3\" font-family=\"Helvetica,sans-Serif\" font-size=\"14.00\">samples = 120</text>\n",
       "<text text-anchor=\"start\" x=\"8\" y=\"-11.3\" font-family=\"Helvetica,sans-Serif\" font-size=\"14.00\">value = [4, 116]</text>\n",
       "</g>\n",
       "<!-- 1&#45;&gt;3 -->\n",
       "<g id=\"edge2\" class=\"edge\">\n",
       "<title>1&#45;&gt;3</title>\n",
       "<path fill=\"none\" stroke=\"black\" d=\"M141.82,-106.7C126.31,-93.18 108.43,-77.59 92.95,-64.09\"/>\n",
       "<polygon fill=\"black\" stroke=\"black\" points=\"95.6,-61.76 85.76,-57.83 91,-67.04 95.6,-61.76\"/>\n",
       "</g>\n",
       "<!-- 4 -->\n",
       "<g id=\"node4\" class=\"node\">\n",
       "<title>4</title>\n",
       "<path fill=\"#fffdfb\" stroke=\"black\" d=\"M226,-56.5C226,-56.5 140,-56.5 140,-56.5 134,-56.5 128,-50.5 128,-44.5 128,-44.5 128,-15.5 128,-15.5 128,-9.5 134,-3.5 140,-3.5 140,-3.5 226,-3.5 226,-3.5 232,-3.5 238,-9.5 238,-15.5 238,-15.5 238,-44.5 238,-44.5 238,-50.5 232,-56.5 226,-56.5\"/>\n",
       "<text text-anchor=\"start\" x=\"155\" y=\"-41.3\" font-family=\"Helvetica,sans-Serif\" font-size=\"14.00\">gini = 0.5</text>\n",
       "<text text-anchor=\"start\" x=\"138\" y=\"-26.3\" font-family=\"Helvetica,sans-Serif\" font-size=\"14.00\">samples = 109</text>\n",
       "<text text-anchor=\"start\" x=\"136\" y=\"-11.3\" font-family=\"Helvetica,sans-Serif\" font-size=\"14.00\">value = [55, 54]</text>\n",
       "</g>\n",
       "<!-- 1&#45;&gt;4 -->\n",
       "<g id=\"edge3\" class=\"edge\">\n",
       "<title>1&#45;&gt;4</title>\n",
       "<path fill=\"none\" stroke=\"black\" d=\"M180.92,-106.7C181.25,-94.56 181.63,-80.75 181.97,-68.28\"/>\n",
       "<polygon fill=\"black\" stroke=\"black\" points=\"185.47,-68.44 182.25,-58.34 178.47,-68.24 185.47,-68.44\"/>\n",
       "</g>\n",
       "<!-- 5 -->\n",
       "<g id=\"node6\" class=\"node\">\n",
       "<title>5</title>\n",
       "<path fill=\"#88c4ef\" stroke=\"black\" d=\"M351,-56.5C351,-56.5 273,-56.5 273,-56.5 267,-56.5 261,-50.5 261,-44.5 261,-44.5 261,-15.5 261,-15.5 261,-9.5 267,-3.5 273,-3.5 273,-3.5 351,-3.5 351,-3.5 357,-3.5 363,-9.5 363,-15.5 363,-15.5 363,-44.5 363,-44.5 363,-50.5 357,-56.5 351,-56.5\"/>\n",
       "<text text-anchor=\"start\" x=\"280\" y=\"-41.3\" font-family=\"Helvetica,sans-Serif\" font-size=\"14.00\">gini = 0.41</text>\n",
       "<text text-anchor=\"start\" x=\"271\" y=\"-26.3\" font-family=\"Helvetica,sans-Serif\" font-size=\"14.00\">samples = 21</text>\n",
       "<text text-anchor=\"start\" x=\"269\" y=\"-11.3\" font-family=\"Helvetica,sans-Serif\" font-size=\"14.00\">value = [6, 15]</text>\n",
       "</g>\n",
       "<!-- 2&#45;&gt;5 -->\n",
       "<g id=\"edge5\" class=\"edge\">\n",
       "<title>2&#45;&gt;5</title>\n",
       "<path fill=\"none\" stroke=\"black\" d=\"M314.08,-106.7C313.75,-94.56 313.37,-80.75 313.03,-68.28\"/>\n",
       "<polygon fill=\"black\" stroke=\"black\" points=\"316.53,-68.24 312.75,-58.34 309.53,-68.44 316.53,-68.24\"/>\n",
       "</g>\n",
       "<!-- 6 -->\n",
       "<g id=\"node7\" class=\"node\">\n",
       "<title>6</title>\n",
       "<path fill=\"#ea995f\" stroke=\"black\" d=\"M486.5,-56.5C486.5,-56.5 393.5,-56.5 393.5,-56.5 387.5,-56.5 381.5,-50.5 381.5,-44.5 381.5,-44.5 381.5,-15.5 381.5,-15.5 381.5,-9.5 387.5,-3.5 393.5,-3.5 393.5,-3.5 486.5,-3.5 486.5,-3.5 492.5,-3.5 498.5,-9.5 498.5,-15.5 498.5,-15.5 498.5,-44.5 498.5,-44.5 498.5,-50.5 492.5,-56.5 486.5,-56.5\"/>\n",
       "<text text-anchor=\"start\" x=\"408\" y=\"-41.3\" font-family=\"Helvetica,sans-Serif\" font-size=\"14.00\">gini = 0.27</text>\n",
       "<text text-anchor=\"start\" x=\"395\" y=\"-26.3\" font-family=\"Helvetica,sans-Serif\" font-size=\"14.00\">samples = 418</text>\n",
       "<text text-anchor=\"start\" x=\"389.5\" y=\"-11.3\" font-family=\"Helvetica,sans-Serif\" font-size=\"14.00\">value = [350, 68]</text>\n",
       "</g>\n",
       "<!-- 2&#45;&gt;6 -->\n",
       "<g id=\"edge6\" class=\"edge\">\n",
       "<title>2&#45;&gt;6</title>\n",
       "<path fill=\"none\" stroke=\"black\" d=\"M353.18,-106.7C368.69,-93.18 386.57,-77.59 402.05,-64.09\"/>\n",
       "<polygon fill=\"black\" stroke=\"black\" points=\"404,-67.04 409.24,-57.83 399.4,-61.76 404,-67.04\"/>\n",
       "</g>\n",
       "</g>\n",
       "</svg>\n"
      ],
      "text/plain": [
       "<graphviz.sources.Source at 0x13cc1ad70>"
      ]
     },
     "execution_count": 45,
     "metadata": {},
     "output_type": "execute_result"
    }
   ],
   "source": [
    "draw_tree(m, trn_xs, size=10)"
   ]
  },
  {
   "cell_type": "code",
   "execution_count": 46,
   "id": "e0175b7d-5c97-430f-aaae-1abcc75c2f9c",
   "metadata": {},
   "outputs": [],
   "source": [
    "def gini(cond):\n",
    "    act = df.loc[cond, dep]\n",
    "    return 1 - act.mean()**2 - (1-act).mean()**2"
   ]
  },
  {
   "cell_type": "code",
   "execution_count": 47,
   "id": "ca88577d-79c5-474b-8e1b-fe196f327f2c",
   "metadata": {},
   "outputs": [
    {
     "data": {
      "text/plain": [
       "(0.3828350034484158, 0.3064437162277842)"
      ]
     },
     "execution_count": 47,
     "metadata": {},
     "output_type": "execute_result"
    }
   ],
   "source": [
    "gini(df.Sex=='female'), gini(df.Sex=='male')"
   ]
  },
  {
   "cell_type": "code",
   "execution_count": 48,
   "id": "68243f1c-3824-47c1-89bb-2f7ca1c68e07",
   "metadata": {},
   "outputs": [
    {
     "data": {
      "text/plain": [
       "0.2242152466367713"
      ]
     },
     "execution_count": 48,
     "metadata": {},
     "output_type": "execute_result"
    }
   ],
   "source": [
    "mean_absolute_error(val_y, m.predict(val_xs))"
   ]
  },
  {
   "cell_type": "code",
   "execution_count": 49,
   "id": "e77b10b5-dd2e-4531-b788-c9dfafdb44cb",
   "metadata": {},
   "outputs": [
    {
     "data": {
      "image/svg+xml": [
       "<?xml version=\"1.0\" encoding=\"UTF-8\" standalone=\"no\"?>\n",
       "<!DOCTYPE svg PUBLIC \"-//W3C//DTD SVG 1.1//EN\"\n",
       " \"http://www.w3.org/Graphics/SVG/1.1/DTD/svg11.dtd\">\n",
       "<!-- Generated by graphviz version 7.0.0 (20221023.0053)\n",
       " -->\n",
       "<!-- Title: Tree Pages: 1 -->\n",
       "<svg width=\"864pt\" height=\"521pt\"\n",
       " viewBox=\"0.00 0.00 864.00 520.83\" xmlns=\"http://www.w3.org/2000/svg\" xmlns:xlink=\"http://www.w3.org/1999/xlink\">\n",
       "<g id=\"graph0\" class=\"graph\" transform=\"scale(0.76034 0.76034) rotate(0) translate(4 681)\">\n",
       "<title>Tree</title>\n",
       "<polygon fill=\"white\" stroke=\"none\" points=\"-4,4 -4,-681 1132.33,-681 1132.33,4 -4,4\"/>\n",
       "<!-- 0 -->\n",
       "<g id=\"node1\" class=\"node\">\n",
       "<title>0</title>\n",
       "<path fill=\"#f5ceb2\" stroke=\"black\" d=\"M596.8,-677C596.8,-677 495.8,-677 495.8,-677 489.8,-677 483.8,-671 483.8,-665 483.8,-665 483.8,-621 483.8,-621 483.8,-615 489.8,-609 495.8,-609 495.8,-609 596.8,-609 596.8,-609 602.8,-609 608.8,-615 608.8,-621 608.8,-621 608.8,-665 608.8,-665 608.8,-671 602.8,-677 596.8,-677\"/>\n",
       "<text text-anchor=\"start\" x=\"517.3\" y=\"-661.8\" font-family=\"Helvetica,sans-Serif\" font-size=\"14.00\">Sex ≤ 0.5</text>\n",
       "<text text-anchor=\"start\" x=\"514.3\" y=\"-646.8\" font-family=\"Helvetica,sans-Serif\" font-size=\"14.00\">gini = 0.47</text>\n",
       "<text text-anchor=\"start\" x=\"501.3\" y=\"-631.8\" font-family=\"Helvetica,sans-Serif\" font-size=\"14.00\">samples = 668</text>\n",
       "<text text-anchor=\"start\" x=\"491.8\" y=\"-616.8\" font-family=\"Helvetica,sans-Serif\" font-size=\"14.00\">value = [415, 253]</text>\n",
       "</g>\n",
       "<!-- 1 -->\n",
       "<g id=\"node2\" class=\"node\">\n",
       "<title>1</title>\n",
       "<path fill=\"#7ebfee\" stroke=\"black\" d=\"M449.8,-573C449.8,-573 356.8,-573 356.8,-573 350.8,-573 344.8,-567 344.8,-561 344.8,-561 344.8,-517 344.8,-517 344.8,-511 350.8,-505 356.8,-505 356.8,-505 449.8,-505 449.8,-505 455.8,-505 461.8,-511 461.8,-517 461.8,-517 461.8,-561 461.8,-561 461.8,-567 455.8,-573 449.8,-573\"/>\n",
       "<text text-anchor=\"start\" x=\"366.3\" y=\"-557.8\" font-family=\"Helvetica,sans-Serif\" font-size=\"14.00\">Pclass ≤ 2.5</text>\n",
       "<text text-anchor=\"start\" x=\"371.3\" y=\"-542.8\" font-family=\"Helvetica,sans-Serif\" font-size=\"14.00\">gini = 0.38</text>\n",
       "<text text-anchor=\"start\" x=\"358.3\" y=\"-527.8\" font-family=\"Helvetica,sans-Serif\" font-size=\"14.00\">samples = 229</text>\n",
       "<text text-anchor=\"start\" x=\"352.8\" y=\"-512.8\" font-family=\"Helvetica,sans-Serif\" font-size=\"14.00\">value = [59, 170]</text>\n",
       "</g>\n",
       "<!-- 0&#45;&gt;1 -->\n",
       "<g id=\"edge1\" class=\"edge\">\n",
       "<title>0&#45;&gt;1</title>\n",
       "<path fill=\"none\" stroke=\"black\" d=\"M499.48,-608.6C486.64,-599.44 472.59,-589.42 459.29,-579.94\"/>\n",
       "<polygon fill=\"black\" stroke=\"black\" points=\"461.64,-577.31 451.46,-574.35 457.57,-583.01 461.64,-577.31\"/>\n",
       "<text text-anchor=\"middle\" x=\"454.36\" y=\"-594.43\" font-family=\"Helvetica,sans-Serif\" font-size=\"14.00\">True</text>\n",
       "</g>\n",
       "<!-- 8 -->\n",
       "<g id=\"node9\" class=\"node\">\n",
       "<title>8</title>\n",
       "<path fill=\"#eb9e67\" stroke=\"black\" d=\"M743.8,-573C743.8,-573 650.8,-573 650.8,-573 644.8,-573 638.8,-567 638.8,-561 638.8,-561 638.8,-517 638.8,-517 638.8,-511 644.8,-505 650.8,-505 650.8,-505 743.8,-505 743.8,-505 749.8,-505 755.8,-511 755.8,-517 755.8,-517 755.8,-561 755.8,-561 755.8,-567 749.8,-573 743.8,-573\"/>\n",
       "<text text-anchor=\"start\" x=\"651.3\" y=\"-557.8\" font-family=\"Helvetica,sans-Serif\" font-size=\"14.00\">LogFare ≤ 3.31</text>\n",
       "<text text-anchor=\"start\" x=\"665.3\" y=\"-542.8\" font-family=\"Helvetica,sans-Serif\" font-size=\"14.00\">gini = 0.31</text>\n",
       "<text text-anchor=\"start\" x=\"652.3\" y=\"-527.8\" font-family=\"Helvetica,sans-Serif\" font-size=\"14.00\">samples = 439</text>\n",
       "<text text-anchor=\"start\" x=\"646.8\" y=\"-512.8\" font-family=\"Helvetica,sans-Serif\" font-size=\"14.00\">value = [356, 83]</text>\n",
       "</g>\n",
       "<!-- 0&#45;&gt;8 -->\n",
       "<g id=\"edge8\" class=\"edge\">\n",
       "<title>0&#45;&gt;8</title>\n",
       "<path fill=\"none\" stroke=\"black\" d=\"M595.75,-608.6C609.43,-599.36 624.43,-589.23 638.59,-579.66\"/>\n",
       "<polygon fill=\"black\" stroke=\"black\" points=\"640.17,-582.82 646.5,-574.32 636.25,-577.02 640.17,-582.82\"/>\n",
       "<text text-anchor=\"middle\" x=\"643\" y=\"-594.32\" font-family=\"Helvetica,sans-Serif\" font-size=\"14.00\">False</text>\n",
       "</g>\n",
       "<!-- 2 -->\n",
       "<g id=\"node3\" class=\"node\">\n",
       "<title>2</title>\n",
       "<path fill=\"#40a0e6\" stroke=\"black\" d=\"M236.3,-469C236.3,-469 150.3,-469 150.3,-469 144.3,-469 138.3,-463 138.3,-457 138.3,-457 138.3,-413 138.3,-413 138.3,-407 144.3,-401 150.3,-401 150.3,-401 236.3,-401 236.3,-401 242.3,-401 248.3,-407 248.3,-413 248.3,-413 248.3,-457 248.3,-457 248.3,-463 242.3,-469 236.3,-469\"/>\n",
       "<text text-anchor=\"start\" x=\"158.3\" y=\"-453.8\" font-family=\"Helvetica,sans-Serif\" font-size=\"14.00\">SibSp ≤ 0.5</text>\n",
       "<text text-anchor=\"start\" x=\"161.3\" y=\"-438.8\" font-family=\"Helvetica,sans-Serif\" font-size=\"14.00\">gini = 0.06</text>\n",
       "<text text-anchor=\"start\" x=\"148.3\" y=\"-423.8\" font-family=\"Helvetica,sans-Serif\" font-size=\"14.00\">samples = 120</text>\n",
       "<text text-anchor=\"start\" x=\"146.3\" y=\"-408.8\" font-family=\"Helvetica,sans-Serif\" font-size=\"14.00\">value = [4, 116]</text>\n",
       "</g>\n",
       "<!-- 1&#45;&gt;2 -->\n",
       "<g id=\"edge2\" class=\"edge\">\n",
       "<title>1&#45;&gt;2</title>\n",
       "<path fill=\"none\" stroke=\"black\" d=\"M344.53,-509.45C317.84,-496.49 286.19,-481.11 258.75,-467.79\"/>\n",
       "<polygon fill=\"black\" stroke=\"black\" points=\"260.34,-464.67 249.82,-463.45 257.28,-470.97 260.34,-464.67\"/>\n",
       "</g>\n",
       "<!-- 5 -->\n",
       "<g id=\"node6\" class=\"node\">\n",
       "<title>5</title>\n",
       "<path fill=\"#fffdfb\" stroke=\"black\" d=\"M446.3,-469C446.3,-469 360.3,-469 360.3,-469 354.3,-469 348.3,-463 348.3,-457 348.3,-457 348.3,-413 348.3,-413 348.3,-407 354.3,-401 360.3,-401 360.3,-401 446.3,-401 446.3,-401 452.3,-401 458.3,-407 458.3,-413 458.3,-413 458.3,-457 458.3,-457 458.3,-463 452.3,-469 446.3,-469\"/>\n",
       "<text text-anchor=\"start\" x=\"360.8\" y=\"-453.8\" font-family=\"Helvetica,sans-Serif\" font-size=\"14.00\">LogFare ≤ 2.7</text>\n",
       "<text text-anchor=\"start\" x=\"375.3\" y=\"-438.8\" font-family=\"Helvetica,sans-Serif\" font-size=\"14.00\">gini = 0.5</text>\n",
       "<text text-anchor=\"start\" x=\"358.3\" y=\"-423.8\" font-family=\"Helvetica,sans-Serif\" font-size=\"14.00\">samples = 109</text>\n",
       "<text text-anchor=\"start\" x=\"356.3\" y=\"-408.8\" font-family=\"Helvetica,sans-Serif\" font-size=\"14.00\">value = [55, 54]</text>\n",
       "</g>\n",
       "<!-- 1&#45;&gt;5 -->\n",
       "<g id=\"edge5\" class=\"edge\">\n",
       "<title>1&#45;&gt;5</title>\n",
       "<path fill=\"none\" stroke=\"black\" d=\"M403.3,-504.6C403.3,-497.03 403.3,-488.87 403.3,-480.9\"/>\n",
       "<polygon fill=\"black\" stroke=\"black\" points=\"406.8,-480.99 403.3,-470.99 399.8,-480.99 406.8,-480.99\"/>\n",
       "</g>\n",
       "<!-- 3 -->\n",
       "<g id=\"node4\" class=\"node\">\n",
       "<title>3</title>\n",
       "<path fill=\"#3c9ee5\" stroke=\"black\" d=\"M96.3,-357.5C96.3,-357.5 18.3,-357.5 18.3,-357.5 12.3,-357.5 6.3,-351.5 6.3,-345.5 6.3,-345.5 6.3,-316.5 6.3,-316.5 6.3,-310.5 12.3,-304.5 18.3,-304.5 18.3,-304.5 96.3,-304.5 96.3,-304.5 102.3,-304.5 108.3,-310.5 108.3,-316.5 108.3,-316.5 108.3,-345.5 108.3,-345.5 108.3,-351.5 102.3,-357.5 96.3,-357.5\"/>\n",
       "<text text-anchor=\"start\" x=\"25.3\" y=\"-342.3\" font-family=\"Helvetica,sans-Serif\" font-size=\"14.00\">gini = 0.03</text>\n",
       "<text text-anchor=\"start\" x=\"16.3\" y=\"-327.3\" font-family=\"Helvetica,sans-Serif\" font-size=\"14.00\">samples = 67</text>\n",
       "<text text-anchor=\"start\" x=\"14.3\" y=\"-312.3\" font-family=\"Helvetica,sans-Serif\" font-size=\"14.00\">value = [1, 66]</text>\n",
       "</g>\n",
       "<!-- 2&#45;&gt;3 -->\n",
       "<g id=\"edge3\" class=\"edge\">\n",
       "<title>2&#45;&gt;3</title>\n",
       "<path fill=\"none\" stroke=\"black\" d=\"M148.77,-400.6C133.23,-388.94 115.82,-375.89 100.4,-364.32\"/>\n",
       "<polygon fill=\"black\" stroke=\"black\" points=\"102.89,-361.81 92.79,-358.61 98.69,-367.41 102.89,-361.81\"/>\n",
       "</g>\n",
       "<!-- 4 -->\n",
       "<g id=\"node5\" class=\"node\">\n",
       "<title>4</title>\n",
       "<path fill=\"#45a3e7\" stroke=\"black\" d=\"M232.3,-357.5C232.3,-357.5 154.3,-357.5 154.3,-357.5 148.3,-357.5 142.3,-351.5 142.3,-345.5 142.3,-345.5 142.3,-316.5 142.3,-316.5 142.3,-310.5 148.3,-304.5 154.3,-304.5 154.3,-304.5 232.3,-304.5 232.3,-304.5 238.3,-304.5 244.3,-310.5 244.3,-316.5 244.3,-316.5 244.3,-345.5 244.3,-345.5 244.3,-351.5 238.3,-357.5 232.3,-357.5\"/>\n",
       "<text text-anchor=\"start\" x=\"161.3\" y=\"-342.3\" font-family=\"Helvetica,sans-Serif\" font-size=\"14.00\">gini = 0.11</text>\n",
       "<text text-anchor=\"start\" x=\"152.3\" y=\"-327.3\" font-family=\"Helvetica,sans-Serif\" font-size=\"14.00\">samples = 53</text>\n",
       "<text text-anchor=\"start\" x=\"150.3\" y=\"-312.3\" font-family=\"Helvetica,sans-Serif\" font-size=\"14.00\">value = [3, 50]</text>\n",
       "</g>\n",
       "<!-- 2&#45;&gt;4 -->\n",
       "<g id=\"edge4\" class=\"edge\">\n",
       "<title>2&#45;&gt;4</title>\n",
       "<path fill=\"none\" stroke=\"black\" d=\"M193.3,-400.6C193.3,-390.47 193.3,-379.28 193.3,-368.93\"/>\n",
       "<polygon fill=\"black\" stroke=\"black\" points=\"196.8,-369.22 193.3,-359.22 189.8,-369.22 196.8,-369.22\"/>\n",
       "</g>\n",
       "<!-- 6 -->\n",
       "<g id=\"node7\" class=\"node\">\n",
       "<title>6</title>\n",
       "<path fill=\"#cbe5f8\" stroke=\"black\" d=\"M376.3,-357.5C376.3,-357.5 290.3,-357.5 290.3,-357.5 284.3,-357.5 278.3,-351.5 278.3,-345.5 278.3,-345.5 278.3,-316.5 278.3,-316.5 278.3,-310.5 284.3,-304.5 290.3,-304.5 290.3,-304.5 376.3,-304.5 376.3,-304.5 382.3,-304.5 388.3,-310.5 388.3,-316.5 388.3,-316.5 388.3,-345.5 388.3,-345.5 388.3,-351.5 382.3,-357.5 376.3,-357.5\"/>\n",
       "<text text-anchor=\"start\" x=\"301.3\" y=\"-342.3\" font-family=\"Helvetica,sans-Serif\" font-size=\"14.00\">gini = 0.49</text>\n",
       "<text text-anchor=\"start\" x=\"292.3\" y=\"-327.3\" font-family=\"Helvetica,sans-Serif\" font-size=\"14.00\">samples = 59</text>\n",
       "<text text-anchor=\"start\" x=\"286.3\" y=\"-312.3\" font-family=\"Helvetica,sans-Serif\" font-size=\"14.00\">value = [25, 34]</text>\n",
       "</g>\n",
       "<!-- 5&#45;&gt;6 -->\n",
       "<g id=\"edge6\" class=\"edge\">\n",
       "<title>5&#45;&gt;6</title>\n",
       "<path fill=\"none\" stroke=\"black\" d=\"M380.38,-400.6C372.98,-389.82 364.76,-377.83 357.28,-366.94\"/>\n",
       "<polygon fill=\"black\" stroke=\"black\" points=\"360.35,-365.22 351.8,-358.95 354.57,-369.18 360.35,-365.22\"/>\n",
       "</g>\n",
       "<!-- 7 -->\n",
       "<g id=\"node8\" class=\"node\">\n",
       "<title>7</title>\n",
       "<path fill=\"#f6d5bd\" stroke=\"black\" d=\"M521.3,-357.5C521.3,-357.5 435.3,-357.5 435.3,-357.5 429.3,-357.5 423.3,-351.5 423.3,-345.5 423.3,-345.5 423.3,-316.5 423.3,-316.5 423.3,-310.5 429.3,-304.5 435.3,-304.5 435.3,-304.5 521.3,-304.5 521.3,-304.5 527.3,-304.5 533.3,-310.5 533.3,-316.5 533.3,-316.5 533.3,-345.5 533.3,-345.5 533.3,-351.5 527.3,-357.5 521.3,-357.5\"/>\n",
       "<text text-anchor=\"start\" x=\"446.3\" y=\"-342.3\" font-family=\"Helvetica,sans-Serif\" font-size=\"14.00\">gini = 0.48</text>\n",
       "<text text-anchor=\"start\" x=\"437.3\" y=\"-327.3\" font-family=\"Helvetica,sans-Serif\" font-size=\"14.00\">samples = 50</text>\n",
       "<text text-anchor=\"start\" x=\"431.3\" y=\"-312.3\" font-family=\"Helvetica,sans-Serif\" font-size=\"14.00\">value = [30, 20]</text>\n",
       "</g>\n",
       "<!-- 5&#45;&gt;7 -->\n",
       "<g id=\"edge7\" class=\"edge\">\n",
       "<title>5&#45;&gt;7</title>\n",
       "<path fill=\"none\" stroke=\"black\" d=\"M427.86,-400.6C435.79,-389.82 444.6,-377.83 452.61,-366.94\"/>\n",
       "<polygon fill=\"black\" stroke=\"black\" points=\"455.4,-369.06 458.51,-358.93 449.76,-364.91 455.4,-369.06\"/>\n",
       "</g>\n",
       "<!-- 9 -->\n",
       "<g id=\"node10\" class=\"node\">\n",
       "<title>9</title>\n",
       "<path fill=\"#e99659\" stroke=\"black\" d=\"M743.8,-469C743.8,-469 650.8,-469 650.8,-469 644.8,-469 638.8,-463 638.8,-457 638.8,-457 638.8,-413 638.8,-413 638.8,-407 644.8,-401 650.8,-401 650.8,-401 743.8,-401 743.8,-401 749.8,-401 755.8,-407 755.8,-413 755.8,-413 755.8,-457 755.8,-457 755.8,-463 749.8,-469 743.8,-469\"/>\n",
       "<text text-anchor=\"start\" x=\"664.3\" y=\"-453.8\" font-family=\"Helvetica,sans-Serif\" font-size=\"14.00\">Age ≤ 20.5</text>\n",
       "<text text-anchor=\"start\" x=\"665.3\" y=\"-438.8\" font-family=\"Helvetica,sans-Serif\" font-size=\"14.00\">gini = 0.24</text>\n",
       "<text text-anchor=\"start\" x=\"652.3\" y=\"-423.8\" font-family=\"Helvetica,sans-Serif\" font-size=\"14.00\">samples = 320</text>\n",
       "<text text-anchor=\"start\" x=\"646.8\" y=\"-408.8\" font-family=\"Helvetica,sans-Serif\" font-size=\"14.00\">value = [275, 45]</text>\n",
       "</g>\n",
       "<!-- 8&#45;&gt;9 -->\n",
       "<g id=\"edge9\" class=\"edge\">\n",
       "<title>8&#45;&gt;9</title>\n",
       "<path fill=\"none\" stroke=\"black\" d=\"M697.3,-504.6C697.3,-497.03 697.3,-488.87 697.3,-480.9\"/>\n",
       "<polygon fill=\"black\" stroke=\"black\" points=\"700.8,-480.99 697.3,-470.99 693.8,-480.99 700.8,-480.99\"/>\n",
       "</g>\n",
       "<!-- 18 -->\n",
       "<g id=\"node19\" class=\"node\">\n",
       "<title>18</title>\n",
       "<path fill=\"#f1bc96\" stroke=\"black\" d=\"M964.3,-469C964.3,-469 878.3,-469 878.3,-469 872.3,-469 866.3,-463 866.3,-457 866.3,-457 866.3,-413 866.3,-413 866.3,-407 872.3,-401 878.3,-401 878.3,-401 964.3,-401 964.3,-401 970.3,-401 976.3,-407 976.3,-413 976.3,-413 976.3,-457 976.3,-457 976.3,-463 970.3,-469 964.3,-469\"/>\n",
       "<text text-anchor=\"start\" x=\"886.3\" y=\"-453.8\" font-family=\"Helvetica,sans-Serif\" font-size=\"14.00\">SibSp ≤ 0.5</text>\n",
       "<text text-anchor=\"start\" x=\"889.3\" y=\"-438.8\" font-family=\"Helvetica,sans-Serif\" font-size=\"14.00\">gini = 0.43</text>\n",
       "<text text-anchor=\"start\" x=\"876.3\" y=\"-423.8\" font-family=\"Helvetica,sans-Serif\" font-size=\"14.00\">samples = 119</text>\n",
       "<text text-anchor=\"start\" x=\"874.3\" y=\"-408.8\" font-family=\"Helvetica,sans-Serif\" font-size=\"14.00\">value = [81, 38]</text>\n",
       "</g>\n",
       "<!-- 8&#45;&gt;18 -->\n",
       "<g id=\"edge18\" class=\"edge\">\n",
       "<title>8&#45;&gt;18</title>\n",
       "<path fill=\"none\" stroke=\"black\" d=\"M756.16,-511.2C786.67,-497.31 824.03,-480.29 855.5,-465.97\"/>\n",
       "<polygon fill=\"black\" stroke=\"black\" points=\"856.9,-469.17 864.55,-461.84 854,-462.8 856.9,-469.17\"/>\n",
       "</g>\n",
       "<!-- 10 -->\n",
       "<g id=\"node11\" class=\"node\">\n",
       "<title>10</title>\n",
       "<path fill=\"#f1b992\" stroke=\"black\" d=\"M666.3,-357.5C666.3,-357.5 580.3,-357.5 580.3,-357.5 574.3,-357.5 568.3,-351.5 568.3,-345.5 568.3,-345.5 568.3,-316.5 568.3,-316.5 568.3,-310.5 574.3,-304.5 580.3,-304.5 580.3,-304.5 666.3,-304.5 666.3,-304.5 672.3,-304.5 678.3,-310.5 678.3,-316.5 678.3,-316.5 678.3,-345.5 678.3,-345.5 678.3,-351.5 672.3,-357.5 666.3,-357.5\"/>\n",
       "<text text-anchor=\"start\" x=\"591.3\" y=\"-342.3\" font-family=\"Helvetica,sans-Serif\" font-size=\"14.00\">gini = 0.43</text>\n",
       "<text text-anchor=\"start\" x=\"582.3\" y=\"-327.3\" font-family=\"Helvetica,sans-Serif\" font-size=\"14.00\">samples = 55</text>\n",
       "<text text-anchor=\"start\" x=\"576.3\" y=\"-312.3\" font-family=\"Helvetica,sans-Serif\" font-size=\"14.00\">value = [38, 17]</text>\n",
       "</g>\n",
       "<!-- 9&#45;&gt;10 -->\n",
       "<g id=\"edge10\" class=\"edge\">\n",
       "<title>9&#45;&gt;10</title>\n",
       "<path fill=\"none\" stroke=\"black\" d=\"M673.07,-400.6C665.25,-389.82 656.56,-377.83 648.65,-366.94\"/>\n",
       "<polygon fill=\"black\" stroke=\"black\" points=\"651.55,-364.97 642.84,-358.93 645.88,-369.08 651.55,-364.97\"/>\n",
       "</g>\n",
       "<!-- 11 -->\n",
       "<g id=\"node12\" class=\"node\">\n",
       "<title>11</title>\n",
       "<path fill=\"#e89050\" stroke=\"black\" d=\"M818.8,-365C818.8,-365 725.8,-365 725.8,-365 719.8,-365 713.8,-359 713.8,-353 713.8,-353 713.8,-309 713.8,-309 713.8,-303 719.8,-297 725.8,-297 725.8,-297 818.8,-297 818.8,-297 824.8,-297 830.8,-303 830.8,-309 830.8,-309 830.8,-353 830.8,-353 830.8,-359 824.8,-365 818.8,-365\"/>\n",
       "<text text-anchor=\"start\" x=\"739.3\" y=\"-349.8\" font-family=\"Helvetica,sans-Serif\" font-size=\"14.00\">Age ≤ 32.5</text>\n",
       "<text text-anchor=\"start\" x=\"740.3\" y=\"-334.8\" font-family=\"Helvetica,sans-Serif\" font-size=\"14.00\">gini = 0.19</text>\n",
       "<text text-anchor=\"start\" x=\"727.3\" y=\"-319.8\" font-family=\"Helvetica,sans-Serif\" font-size=\"14.00\">samples = 265</text>\n",
       "<text text-anchor=\"start\" x=\"721.8\" y=\"-304.8\" font-family=\"Helvetica,sans-Serif\" font-size=\"14.00\">value = [237, 28]</text>\n",
       "</g>\n",
       "<!-- 9&#45;&gt;11 -->\n",
       "<g id=\"edge11\" class=\"edge\">\n",
       "<title>9&#45;&gt;11</title>\n",
       "<path fill=\"none\" stroke=\"black\" d=\"M721.86,-400.6C727.95,-392.32 734.55,-383.34 740.92,-374.69\"/>\n",
       "<polygon fill=\"black\" stroke=\"black\" points=\"743.69,-376.82 746.79,-366.69 738.05,-372.68 743.69,-376.82\"/>\n",
       "</g>\n",
       "<!-- 12 -->\n",
       "<g id=\"node13\" class=\"node\">\n",
       "<title>12</title>\n",
       "<path fill=\"#e99356\" stroke=\"black\" d=\"M746.8,-261C746.8,-261 653.8,-261 653.8,-261 647.8,-261 641.8,-255 641.8,-249 641.8,-249 641.8,-205 641.8,-205 641.8,-199 647.8,-193 653.8,-193 653.8,-193 746.8,-193 746.8,-193 752.8,-193 758.8,-199 758.8,-205 758.8,-205 758.8,-249 758.8,-249 758.8,-255 752.8,-261 746.8,-261\"/>\n",
       "<text text-anchor=\"start\" x=\"663.8\" y=\"-245.8\" font-family=\"Helvetica,sans-Serif\" font-size=\"14.00\">Age ≤ 24.75</text>\n",
       "<text text-anchor=\"start\" x=\"668.3\" y=\"-230.8\" font-family=\"Helvetica,sans-Serif\" font-size=\"14.00\">gini = 0.22</text>\n",
       "<text text-anchor=\"start\" x=\"655.3\" y=\"-215.8\" font-family=\"Helvetica,sans-Serif\" font-size=\"14.00\">samples = 181</text>\n",
       "<text text-anchor=\"start\" x=\"649.8\" y=\"-200.8\" font-family=\"Helvetica,sans-Serif\" font-size=\"14.00\">value = [158, 23]</text>\n",
       "</g>\n",
       "<!-- 11&#45;&gt;12 -->\n",
       "<g id=\"edge12\" class=\"edge\">\n",
       "<title>11&#45;&gt;12</title>\n",
       "<path fill=\"none\" stroke=\"black\" d=\"M748.73,-296.6C742.89,-288.32 736.54,-279.34 730.44,-270.69\"/>\n",
       "<polygon fill=\"black\" stroke=\"black\" points=\"733.43,-268.86 724.81,-262.71 727.71,-272.9 733.43,-268.86\"/>\n",
       "</g>\n",
       "<!-- 17 -->\n",
       "<g id=\"node18\" class=\"node\">\n",
       "<title>17</title>\n",
       "<path fill=\"#e78946\" stroke=\"black\" d=\"M883.3,-253.5C883.3,-253.5 805.3,-253.5 805.3,-253.5 799.3,-253.5 793.3,-247.5 793.3,-241.5 793.3,-241.5 793.3,-212.5 793.3,-212.5 793.3,-206.5 799.3,-200.5 805.3,-200.5 805.3,-200.5 883.3,-200.5 883.3,-200.5 889.3,-200.5 895.3,-206.5 895.3,-212.5 895.3,-212.5 895.3,-241.5 895.3,-241.5 895.3,-247.5 889.3,-253.5 883.3,-253.5\"/>\n",
       "<text text-anchor=\"start\" x=\"812.3\" y=\"-238.3\" font-family=\"Helvetica,sans-Serif\" font-size=\"14.00\">gini = 0.11</text>\n",
       "<text text-anchor=\"start\" x=\"803.3\" y=\"-223.3\" font-family=\"Helvetica,sans-Serif\" font-size=\"14.00\">samples = 84</text>\n",
       "<text text-anchor=\"start\" x=\"801.3\" y=\"-208.3\" font-family=\"Helvetica,sans-Serif\" font-size=\"14.00\">value = [79, 5]</text>\n",
       "</g>\n",
       "<!-- 11&#45;&gt;17 -->\n",
       "<g id=\"edge17\" class=\"edge\">\n",
       "<title>11&#45;&gt;17</title>\n",
       "<path fill=\"none\" stroke=\"black\" d=\"M795.88,-296.6C803.49,-285.82 811.95,-273.83 819.64,-262.94\"/>\n",
       "<polygon fill=\"black\" stroke=\"black\" points=\"822.38,-265.13 825.29,-254.94 816.66,-261.09 822.38,-265.13\"/>\n",
       "</g>\n",
       "<!-- 13 -->\n",
       "<g id=\"node14\" class=\"node\">\n",
       "<title>13</title>\n",
       "<path fill=\"#e88d4c\" stroke=\"black\" d=\"M671.8,-157C671.8,-157 578.8,-157 578.8,-157 572.8,-157 566.8,-151 566.8,-145 566.8,-145 566.8,-101 566.8,-101 566.8,-95 572.8,-89 578.8,-89 578.8,-89 671.8,-89 671.8,-89 677.8,-89 683.8,-95 683.8,-101 683.8,-101 683.8,-145 683.8,-145 683.8,-151 677.8,-157 671.8,-157\"/>\n",
       "<text text-anchor=\"start\" x=\"579.3\" y=\"-141.8\" font-family=\"Helvetica,sans-Serif\" font-size=\"14.00\">LogFare ≤ 2.18</text>\n",
       "<text text-anchor=\"start\" x=\"593.3\" y=\"-126.8\" font-family=\"Helvetica,sans-Serif\" font-size=\"14.00\">gini = 0.16</text>\n",
       "<text text-anchor=\"start\" x=\"580.3\" y=\"-111.8\" font-family=\"Helvetica,sans-Serif\" font-size=\"14.00\">samples = 114</text>\n",
       "<text text-anchor=\"start\" x=\"574.8\" y=\"-96.8\" font-family=\"Helvetica,sans-Serif\" font-size=\"14.00\">value = [104, 10]</text>\n",
       "</g>\n",
       "<!-- 12&#45;&gt;13 -->\n",
       "<g id=\"edge13\" class=\"edge\">\n",
       "<title>12&#45;&gt;13</title>\n",
       "<path fill=\"none\" stroke=\"black\" d=\"M675.75,-192.6C669.66,-184.32 663.05,-175.34 656.69,-166.69\"/>\n",
       "<polygon fill=\"black\" stroke=\"black\" points=\"659.56,-164.68 650.81,-158.69 653.92,-168.82 659.56,-164.68\"/>\n",
       "</g>\n",
       "<!-- 16 -->\n",
       "<g id=\"node17\" class=\"node\">\n",
       "<title>16</title>\n",
       "<path fill=\"#eb9f69\" stroke=\"black\" d=\"M817.3,-149.5C817.3,-149.5 731.3,-149.5 731.3,-149.5 725.3,-149.5 719.3,-143.5 719.3,-137.5 719.3,-137.5 719.3,-108.5 719.3,-108.5 719.3,-102.5 725.3,-96.5 731.3,-96.5 731.3,-96.5 817.3,-96.5 817.3,-96.5 823.3,-96.5 829.3,-102.5 829.3,-108.5 829.3,-108.5 829.3,-137.5 829.3,-137.5 829.3,-143.5 823.3,-149.5 817.3,-149.5\"/>\n",
       "<text text-anchor=\"start\" x=\"742.3\" y=\"-134.3\" font-family=\"Helvetica,sans-Serif\" font-size=\"14.00\">gini = 0.31</text>\n",
       "<text text-anchor=\"start\" x=\"733.3\" y=\"-119.3\" font-family=\"Helvetica,sans-Serif\" font-size=\"14.00\">samples = 67</text>\n",
       "<text text-anchor=\"start\" x=\"727.3\" y=\"-104.3\" font-family=\"Helvetica,sans-Serif\" font-size=\"14.00\">value = [54, 13]</text>\n",
       "</g>\n",
       "<!-- 12&#45;&gt;16 -->\n",
       "<g id=\"edge16\" class=\"edge\">\n",
       "<title>12&#45;&gt;16</title>\n",
       "<path fill=\"none\" stroke=\"black\" d=\"M724.53,-192.6C732.36,-181.82 741.05,-169.83 748.95,-158.94\"/>\n",
       "<polygon fill=\"black\" stroke=\"black\" points=\"751.73,-161.08 754.77,-150.93 746.06,-156.97 751.73,-161.08\"/>\n",
       "</g>\n",
       "<!-- 14 -->\n",
       "<g id=\"node15\" class=\"node\">\n",
       "<title>14</title>\n",
       "<path fill=\"#e99254\" stroke=\"black\" d=\"M596.3,-53.5C596.3,-53.5 518.3,-53.5 518.3,-53.5 512.3,-53.5 506.3,-47.5 506.3,-41.5 506.3,-41.5 506.3,-12.5 506.3,-12.5 506.3,-6.5 512.3,-0.5 518.3,-0.5 518.3,-0.5 596.3,-0.5 596.3,-0.5 602.3,-0.5 608.3,-6.5 608.3,-12.5 608.3,-12.5 608.3,-41.5 608.3,-41.5 608.3,-47.5 602.3,-53.5 596.3,-53.5\"/>\n",
       "<text text-anchor=\"start\" x=\"525.3\" y=\"-38.3\" font-family=\"Helvetica,sans-Serif\" font-size=\"14.00\">gini = 0.21</text>\n",
       "<text text-anchor=\"start\" x=\"516.3\" y=\"-23.3\" font-family=\"Helvetica,sans-Serif\" font-size=\"14.00\">samples = 50</text>\n",
       "<text text-anchor=\"start\" x=\"514.3\" y=\"-8.3\" font-family=\"Helvetica,sans-Serif\" font-size=\"14.00\">value = [44, 6]</text>\n",
       "</g>\n",
       "<!-- 13&#45;&gt;14 -->\n",
       "<g id=\"edge14\" class=\"edge\">\n",
       "<title>13&#45;&gt;14</title>\n",
       "<path fill=\"none\" stroke=\"black\" d=\"M601.14,-88.59C595.15,-80.31 588.71,-71.42 582.66,-63.06\"/>\n",
       "<polygon fill=\"black\" stroke=\"black\" points=\"585.63,-61.19 576.94,-55.14 579.96,-65.29 585.63,-61.19\"/>\n",
       "</g>\n",
       "<!-- 15 -->\n",
       "<g id=\"node16\" class=\"node\">\n",
       "<title>15</title>\n",
       "<path fill=\"#e78946\" stroke=\"black\" d=\"M732.3,-53.5C732.3,-53.5 654.3,-53.5 654.3,-53.5 648.3,-53.5 642.3,-47.5 642.3,-41.5 642.3,-41.5 642.3,-12.5 642.3,-12.5 642.3,-6.5 648.3,-0.5 654.3,-0.5 654.3,-0.5 732.3,-0.5 732.3,-0.5 738.3,-0.5 744.3,-6.5 744.3,-12.5 744.3,-12.5 744.3,-41.5 744.3,-41.5 744.3,-47.5 738.3,-53.5 732.3,-53.5\"/>\n",
       "<text text-anchor=\"start\" x=\"661.3\" y=\"-38.3\" font-family=\"Helvetica,sans-Serif\" font-size=\"14.00\">gini = 0.12</text>\n",
       "<text text-anchor=\"start\" x=\"652.3\" y=\"-23.3\" font-family=\"Helvetica,sans-Serif\" font-size=\"14.00\">samples = 64</text>\n",
       "<text text-anchor=\"start\" x=\"650.3\" y=\"-8.3\" font-family=\"Helvetica,sans-Serif\" font-size=\"14.00\">value = [60, 4]</text>\n",
       "</g>\n",
       "<!-- 13&#45;&gt;15 -->\n",
       "<g id=\"edge15\" class=\"edge\">\n",
       "<title>13&#45;&gt;15</title>\n",
       "<path fill=\"none\" stroke=\"black\" d=\"M649.47,-88.59C655.46,-80.31 661.9,-71.42 667.94,-63.06\"/>\n",
       "<polygon fill=\"black\" stroke=\"black\" points=\"670.65,-65.29 673.67,-55.14 664.98,-61.19 670.65,-65.29\"/>\n",
       "</g>\n",
       "<!-- 19 -->\n",
       "<g id=\"node20\" class=\"node\">\n",
       "<title>19</title>\n",
       "<path fill=\"#f6d5bd\" stroke=\"black\" d=\"M964.3,-357.5C964.3,-357.5 878.3,-357.5 878.3,-357.5 872.3,-357.5 866.3,-351.5 866.3,-345.5 866.3,-345.5 866.3,-316.5 866.3,-316.5 866.3,-310.5 872.3,-304.5 878.3,-304.5 878.3,-304.5 964.3,-304.5 964.3,-304.5 970.3,-304.5 976.3,-310.5 976.3,-316.5 976.3,-316.5 976.3,-345.5 976.3,-345.5 976.3,-351.5 970.3,-357.5 964.3,-357.5\"/>\n",
       "<text text-anchor=\"start\" x=\"889.3\" y=\"-342.3\" font-family=\"Helvetica,sans-Serif\" font-size=\"14.00\">gini = 0.48</text>\n",
       "<text text-anchor=\"start\" x=\"880.3\" y=\"-327.3\" font-family=\"Helvetica,sans-Serif\" font-size=\"14.00\">samples = 60</text>\n",
       "<text text-anchor=\"start\" x=\"874.3\" y=\"-312.3\" font-family=\"Helvetica,sans-Serif\" font-size=\"14.00\">value = [36, 24]</text>\n",
       "</g>\n",
       "<!-- 18&#45;&gt;19 -->\n",
       "<g id=\"edge19\" class=\"edge\">\n",
       "<title>18&#45;&gt;19</title>\n",
       "<path fill=\"none\" stroke=\"black\" d=\"M921.3,-400.6C921.3,-390.47 921.3,-379.28 921.3,-368.93\"/>\n",
       "<polygon fill=\"black\" stroke=\"black\" points=\"924.8,-369.22 921.3,-359.22 917.8,-369.22 924.8,-369.22\"/>\n",
       "</g>\n",
       "<!-- 20 -->\n",
       "<g id=\"node21\" class=\"node\">\n",
       "<title>20</title>\n",
       "<path fill=\"#eda877\" stroke=\"black\" d=\"M1109.3,-357.5C1109.3,-357.5 1023.3,-357.5 1023.3,-357.5 1017.3,-357.5 1011.3,-351.5 1011.3,-345.5 1011.3,-345.5 1011.3,-316.5 1011.3,-316.5 1011.3,-310.5 1017.3,-304.5 1023.3,-304.5 1023.3,-304.5 1109.3,-304.5 1109.3,-304.5 1115.3,-304.5 1121.3,-310.5 1121.3,-316.5 1121.3,-316.5 1121.3,-345.5 1121.3,-345.5 1121.3,-351.5 1115.3,-357.5 1109.3,-357.5\"/>\n",
       "<text text-anchor=\"start\" x=\"1034.3\" y=\"-342.3\" font-family=\"Helvetica,sans-Serif\" font-size=\"14.00\">gini = 0.36</text>\n",
       "<text text-anchor=\"start\" x=\"1025.3\" y=\"-327.3\" font-family=\"Helvetica,sans-Serif\" font-size=\"14.00\">samples = 59</text>\n",
       "<text text-anchor=\"start\" x=\"1019.3\" y=\"-312.3\" font-family=\"Helvetica,sans-Serif\" font-size=\"14.00\">value = [45, 14]</text>\n",
       "</g>\n",
       "<!-- 18&#45;&gt;20 -->\n",
       "<g id=\"edge20\" class=\"edge\">\n",
       "<title>18&#45;&gt;20</title>\n",
       "<path fill=\"none\" stroke=\"black\" d=\"M968.78,-400.6C985.35,-388.94 1003.91,-375.89 1020.35,-364.32\"/>\n",
       "<polygon fill=\"black\" stroke=\"black\" points=\"1022.36,-367.19 1028.52,-358.58 1018.33,-361.47 1022.36,-367.19\"/>\n",
       "</g>\n",
       "</g>\n",
       "</svg>\n"
      ],
      "text/plain": [
       "<graphviz.sources.Source at 0x13cc1b1c0>"
      ]
     },
     "execution_count": 49,
     "metadata": {},
     "output_type": "execute_result"
    }
   ],
   "source": [
    "m = DecisionTreeClassifier(min_samples_leaf=50)\n",
    "m.fit(trn_xs, trn_y)\n",
    "draw_tree(m, trn_xs, size=12)"
   ]
  },
  {
   "cell_type": "code",
   "execution_count": 50,
   "id": "14e4e79e-aa87-4181-8cc0-80f5a9444fc9",
   "metadata": {},
   "outputs": [
    {
     "data": {
      "text/plain": [
       "0.18385650224215247"
      ]
     },
     "execution_count": 50,
     "metadata": {},
     "output_type": "execute_result"
    }
   ],
   "source": [
    "mean_absolute_error(val_y, m.predict(val_xs))"
   ]
  },
  {
   "cell_type": "code",
   "execution_count": 51,
   "id": "84829aa1-8a8d-4d7f-9590-885fc8b20f40",
   "metadata": {},
   "outputs": [],
   "source": [
    "tst_df[cats] = tst_df[cats].apply(lambda x: x.cat.codes)\n",
    "tst_xs,_ = xs_y(tst_df)\n",
    "\n",
    "def subm(preds, suff):\n",
    "    tst_df['Survived'] = preds\n",
    "    sub_df = tst_df[['PassengerId','Survived']]\n",
    "    sub_df.to_csv(f'sub-{suff}.csv', index=False)\n",
    "\n",
    "subm(m.predict(tst_xs), 'tree')\n"
   ]
  },
  {
   "cell_type": "code",
   "execution_count": 52,
   "id": "ed9e2fe0-fab6-46aa-a9b7-55f95f4c6ab4",
   "metadata": {},
   "outputs": [
    {
     "data": {
      "text/plain": [
       "0    S\n",
       "1    C\n",
       "2    S\n",
       "3    S\n",
       "4    S\n",
       "Name: Embarked, dtype: category\n",
       "Categories (3, object): ['C', 'Q', 'S']"
      ]
     },
     "execution_count": 52,
     "metadata": {},
     "output_type": "execute_result"
    }
   ],
   "source": [
    "df.Embarked.head()"
   ]
  },
  {
   "cell_type": "code",
   "execution_count": 53,
   "id": "003b5a07-70cb-4915-b76f-c330b401afbf",
   "metadata": {},
   "outputs": [
    {
     "data": {
      "text/plain": [
       "0    2\n",
       "1    0\n",
       "2    2\n",
       "3    2\n",
       "4    2\n",
       "dtype: int8"
      ]
     },
     "execution_count": 53,
     "metadata": {},
     "output_type": "execute_result"
    }
   ],
   "source": [
    "df.Embarked.cat.codes.head()"
   ]
  },
  {
   "cell_type": "code",
   "execution_count": 54,
   "id": "6194342d-06b7-471a-bc91-0fb92f7275f6",
   "metadata": {},
   "outputs": [],
   "source": [
    "def get_tree(prop=0.75):\n",
    "    n = len(trn_y)\n",
    "    idxs = random.choice(n, int(n*prop))\n",
    "    return DecisionTreeClassifier(min_samples_leaf=5).fit(trn_xs.iloc[idxs], trn_y.iloc[idxs])\n"
   ]
  },
  {
   "cell_type": "code",
   "execution_count": 55,
   "id": "08977c86-b334-4658-acaa-51d3d04bdd1c",
   "metadata": {},
   "outputs": [],
   "source": [
    "trees = [get_tree() for t in range(100)]"
   ]
  },
  {
   "cell_type": "code",
   "execution_count": 56,
   "id": "b764ad8f-f741-47b3-9f19-1a224537054b",
   "metadata": {},
   "outputs": [
    {
     "data": {
      "text/plain": [
       "0.2272645739910314"
      ]
     },
     "execution_count": 56,
     "metadata": {},
     "output_type": "execute_result"
    }
   ],
   "source": [
    "all_probs = [t.predict(val_xs) for t in trees]\n",
    "avg_probs = np.stack(all_probs).mean(0)\n",
    "\n",
    "mean_absolute_error(val_y, avg_probs)"
   ]
  },
  {
   "cell_type": "code",
   "execution_count": 57,
   "id": "d7824f40-66f0-4ece-9aff-e606b9ae42a5",
   "metadata": {},
   "outputs": [
    {
     "data": {
      "text/plain": [
       "0.18834080717488788"
      ]
     },
     "execution_count": 57,
     "metadata": {},
     "output_type": "execute_result"
    }
   ],
   "source": [
    "from sklearn.ensemble import RandomForestClassifier\n",
    "\n",
    "rf = RandomForestClassifier(100, min_samples_leaf=5)\n",
    "rf.fit(trn_xs, trn_y);\n",
    "mean_absolute_error(val_y, rf.predict(val_xs))"
   ]
  },
  {
   "cell_type": "code",
   "execution_count": 58,
   "id": "d3746059-18fa-43cc-8d4e-2d15e22d9584",
   "metadata": {},
   "outputs": [],
   "source": [
    "subm(rf.predict(tst_xs), 'rf')"
   ]
  },
  {
   "cell_type": "code",
   "execution_count": 59,
   "id": "c0bc3127-b452-4088-9c63-ab01cafc9d88",
   "metadata": {},
   "outputs": [
    {
     "data": {
      "image/png": "[encoded data removed]",
      "text/plain": [
       "<Figure size 640x480 with 1 Axes>"
      ]
     },
     "metadata": {},
     "output_type": "display_data"
    }
   ],
   "source": [
    "pd.DataFrame(dict(cols=trn_xs.columns, imp=m.feature_importances_)).plot('cols', 'imp', 'barh');"
   ]
  },
  {
   "cell_type": "code",
   "execution_count": null,
   "id": "8242fa7d-19d3-4da1-97e1-6b8e2adff716",
   "metadata": {},
   "outputs": [],
   "source": []
  }
 ],
 "metadata": {
  "kernelspec": {
   "display_name": "Python 3 (ipykernel)",
   "language": "python",
   "name": "python3"
  },
  "language_info": {
   "codemirror_mode": {
    "name": "ipython",
    "version": 3
   },
   "file_extension": ".py",
   "mimetype": "text/x-python",
   "name": "python",
   "nbconvert_exporter": "python",
   "pygments_lexer": "ipython3",
   "version": "3.10.8"
  }
 },
 "nbformat": 4,
 "nbformat_minor": 5
}
