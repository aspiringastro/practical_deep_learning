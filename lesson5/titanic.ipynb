{
 "cells": [
  {
   "cell_type": "code",
   "execution_count": null,
   "id": "d39d9779-80a5-4e1f-ab67-5e71e0895208",
   "metadata": {},
   "outputs": [],
   "source": [
    "import numpy as np\n",
    "import pandas as pd\n",
    "import matplotlib as ply\n",
    "import os\n",
    "from pathlib import Path"
   ]
  },
  {
   "cell_type": "code",
   "execution_count": null,
   "id": "b6be1a89-60d2-4b67-88df-c22b52722f56",
   "metadata": {},
   "outputs": [],
   "source": [
    "path = Path('titanic')\n",
    "df = pd.read_csv(path/'train.csv')\n",
    "df"
   ]
  },
  {
   "cell_type": "code",
   "execution_count": null,
   "id": "998a7062-4021-4065-a79e-0d403e02f42c",
   "metadata": {},
   "outputs": [],
   "source": [
    "# Find columns containing no values\n",
    "df.isna().sum()"
   ]
  },
  {
   "cell_type": "code",
   "execution_count": null,
   "id": "ff8e8918-0b03-46e4-b466-125e3c8cdc51",
   "metadata": {},
   "outputs": [],
   "source": [
    "# Calculate the mode for each column and fill \n",
    "modes = df.mode().iloc[0]\n",
    "modes"
   ]
  },
  {
   "cell_type": "code",
   "execution_count": null,
   "id": "fc67b49f-6059-4ebc-923b-943d4c012a9d",
   "metadata": {},
   "outputs": [],
   "source": [
    "df['InCabin'] = df['Cabin'].isna()\n",
    "df.InCabin = df.InCabin.astype(int)\n",
    "df.InCabin.hist()"
   ]
  },
  {
   "cell_type": "code",
   "execution_count": null,
   "id": "e9b8f72e-68d4-4ce9-85c2-74cd68e5e6f2",
   "metadata": {},
   "outputs": [],
   "source": [
    "\n",
    "# in-place replace NaN values with mode.\n",
    "\n",
    "df.fillna(modes, inplace=True)\n",
    "df.isna().sum()"
   ]
  },
  {
   "cell_type": "code",
   "execution_count": null,
   "id": "a38b2cee-7b1a-482c-b9c9-d12f94b7560b",
   "metadata": {},
   "outputs": [],
   "source": [
    "df.describe(include=[np.number])"
   ]
  },
  {
   "cell_type": "code",
   "execution_count": null,
   "id": "59c61917-2f99-432f-92b9-5cda88a433fc",
   "metadata": {},
   "outputs": [],
   "source": [
    "df.Age.hist()"
   ]
  },
  {
   "cell_type": "code",
   "execution_count": null,
   "id": "da2e5ad3-4e71-4657-93e3-f19728ffe391",
   "metadata": {},
   "outputs": [],
   "source": [
    "df.Fare.hist()"
   ]
  },
  {
   "cell_type": "code",
   "execution_count": null,
   "id": "e69de6d3-6daa-4eda-a8fd-9c3c302631d8",
   "metadata": {},
   "outputs": [],
   "source": [
    "df['LogFare'] = np.log1p(df.Fare)\n",
    "df.LogFare.hist()"
   ]
  },
  {
   "cell_type": "code",
   "execution_count": null,
   "id": "7169e47e-ced3-4a7e-9061-61ad749106f0",
   "metadata": {},
   "outputs": [],
   "source": [
    "df.SibSp.hist()"
   ]
  },
  {
   "cell_type": "code",
   "execution_count": null,
   "id": "adb97833-bd6f-4e85-bef7-1a5ef521105f",
   "metadata": {},
   "outputs": [],
   "source": [
    "pclasses = sorted(df.Pclass.unique())\n",
    "pclasses"
   ]
  },
  {
   "cell_type": "code",
   "execution_count": null,
   "id": "e0b49142-d9a3-4cb7-91c7-d10f77bf2586",
   "metadata": {},
   "outputs": [],
   "source": [
    "df.describe(include=[object])"
   ]
  },
  {
   "cell_type": "code",
   "execution_count": null,
   "id": "2aae7659-5b46-4424-9302-ff66c1222948",
   "metadata": {},
   "outputs": [],
   "source": [
    "df.head()"
   ]
  },
  {
   "cell_type": "code",
   "execution_count": null,
   "id": "9f073907-30ae-437e-98f1-6cc0ad7ac310",
   "metadata": {},
   "outputs": [],
   "source": [
    "df_columns = list(df.columns)\n",
    "df_columns"
   ]
  },
  {
   "cell_type": "code",
   "execution_count": null,
   "id": "8551cf14-b5f9-4ecf-98d9-d1179c7e5546",
   "metadata": {},
   "outputs": [],
   "source": [
    "dummy_columns = [\"Sex\", \"Pclass\", \"Embarked\", \"InCabin\" ]\n",
    "df = pd.get_dummies(df, columns=dummy_columns)\n",
    "new_columns = list(df.columns)\n",
    "new_columns"
   ]
  },
  {
   "cell_type": "code",
   "execution_count": null,
   "id": "13e608c6-f3d7-4ccc-8140-c44c6300383a",
   "metadata": {},
   "outputs": [],
   "source": [
    "added_columns = list(set(new_columns + dummy_columns) ^ set(df_columns))\n",
    "added_columns"
   ]
  },
  {
   "cell_type": "code",
   "execution_count": null,
   "id": "9dc3c8b1-3683-45d2-82ff-589ac6722a6e",
   "metadata": {},
   "outputs": [],
   "source": [
    "from torch import tensor\n",
    "import torch\n",
    "Y = tensor(df.Survived)"
   ]
  },
  {
   "cell_type": "code",
   "execution_count": null,
   "id": "62ff8455-0e8b-4e3c-adf5-5cc821e2b9d9",
   "metadata": {},
   "outputs": [],
   "source": [
    "added_cols = added_columns"
   ]
  },
  {
   "cell_type": "code",
   "execution_count": null,
   "id": "70fa353e-0aa0-48ce-ade2-88a71f5031fc",
   "metadata": {},
   "outputs": [],
   "source": [
    "indep_cols = ['Age', 'SibSp', 'Parch', 'LogFare'] + added_cols\n",
    "t_indep = tensor(df[indep_cols].values, dtype=torch.float)\n",
    "t_indep.shape"
   ]
  },
  {
   "cell_type": "code",
   "execution_count": null,
   "id": "68e5bed2-3a76-4d84-8aa8-17d3f08ecdeb",
   "metadata": {},
   "outputs": [],
   "source": [
    "# Rank of the tensor\n",
    "len(t_indep.shape)"
   ]
  },
  {
   "cell_type": "markdown",
   "id": "806eeb88-993b-46f1-b105-07b50c46c32a",
   "metadata": {},
   "source": [
    "## Setting up a linear model\n"
   ]
  },
  {
   "cell_type": "code",
   "execution_count": null,
   "id": "1ad134eb-bfdd-478e-ab9b-e6a3e3830bad",
   "metadata": {},
   "outputs": [],
   "source": [
    "torch.manual_seed(42)\n",
    "\n",
    "n_coeff = t_indep.shape[1]\n",
    "coeffs = torch.rand(n_coeff) - 0.5\n",
    "coeffs.shape"
   ]
  },
  {
   "cell_type": "code",
   "execution_count": null,
   "id": "faa26e94-d3e5-4131-9c03-3d1884b34bdb",
   "metadata": {},
   "outputs": [],
   "source": [
    "t_indep * coeffs"
   ]
  },
  {
   "cell_type": "code",
   "execution_count": null,
   "id": "a51e8a8a-ef68-477f-baa6-ac60c58a579d",
   "metadata": {},
   "outputs": [],
   "source": [
    "vals, indices = t_indep.max(dim=0)\n",
    "t_indep = t_indep / vals\n",
    "t_indep"
   ]
  },
  {
   "cell_type": "code",
   "execution_count": null,
   "id": "589af0b3-aa91-4721-849c-c7cab833023b",
   "metadata": {},
   "outputs": [],
   "source": [
    "t_indep.shape"
   ]
  },
  {
   "cell_type": "code",
   "execution_count": null,
   "id": "3044b5f0-b462-4703-88bb-4d81f750228a",
   "metadata": {},
   "outputs": [],
   "source": [
    "t_indep * coeffs"
   ]
  },
  {
   "cell_type": "code",
   "execution_count": null,
   "id": "1899f998-400b-49cd-b593-1a3aa2ec6d51",
   "metadata": {},
   "outputs": [],
   "source": [
    "preds = (t_indep*coeffs).sum(axis=1)"
   ]
  },
  {
   "cell_type": "code",
   "execution_count": null,
   "id": "12b14f0c-48c5-4a20-8599-7dfa41ba4fc4",
   "metadata": {},
   "outputs": [],
   "source": [
    "preds[:10]"
   ]
  },
  {
   "cell_type": "code",
   "execution_count": null,
   "id": "95fb6ee0-118e-4eea-ba46-134dfae942da",
   "metadata": {},
   "outputs": [],
   "source": [
    "loss = torch.abs(preds - Y).mean()\n",
    "loss"
   ]
  },
  {
   "cell_type": "code",
   "execution_count": null,
   "id": "5964cb90-551e-4a30-966b-7518ae59f547",
   "metadata": {},
   "outputs": [],
   "source": [
    "def calc_preds(coeffs, indeps): return (coeffs * indeps).sum(axis=1)\n",
    "def calc_loss(coeffs, indeps, deps): return torch.abs(calc_preds(coeffs, indeps)-deps).mean()"
   ]
  },
  {
   "cell_type": "markdown",
   "id": "4618f68f-4053-4bfa-a21d-f7c267d66b7e",
   "metadata": {},
   "source": [
    "## Doing gradient descent step\n"
   ]
  },
  {
   "cell_type": "code",
   "execution_count": null,
   "id": "5b98548d-3629-4b1d-aa70-16ee97d79b43",
   "metadata": {},
   "outputs": [],
   "source": [
    "coeffs.requires_grad_() # in-place operation"
   ]
  },
  {
   "cell_type": "code",
   "execution_count": null,
   "id": "7ae69324-4bf3-425e-b505-d5d401153e2f",
   "metadata": {},
   "outputs": [],
   "source": [
    "loss = calc_loss(coeffs, t_indep, Y)\n",
    "loss"
   ]
  },
  {
   "cell_type": "code",
   "execution_count": null,
   "id": "64f4a552-215d-4f5e-bd6b-1c052553ebca",
   "metadata": {},
   "outputs": [],
   "source": [
    "loss.backward()"
   ]
  },
  {
   "cell_type": "code",
   "execution_count": null,
   "id": "d9728bf3-b753-4aa1-84e3-43266904f310",
   "metadata": {},
   "outputs": [],
   "source": [
    "coeffs.grad"
   ]
  },
  {
   "cell_type": "code",
   "execution_count": null,
   "id": "84206199-daba-4bdd-8a65-42285edf8873",
   "metadata": {},
   "outputs": [],
   "source": [
    "with torch.no_grad():\n",
    "    coeffs.sub_(coeffs.grad * 0.1)\n",
    "    print(calc_loss(coeffs, t_indep, Y))"
   ]
  },
  {
   "cell_type": "markdown",
   "id": "dad078ea-01bb-4869-9480-a3c1567f0b5c",
   "metadata": {},
   "source": [
    "## Training the linear model"
   ]
  },
  {
   "cell_type": "code",
   "execution_count": null,
   "id": "ed526c37-3851-46c2-99b0-a6e739de4fac",
   "metadata": {},
   "outputs": [],
   "source": [
    "from fastai.data.transforms import RandomSplitter\n",
    "trn_split, val_split = RandomSplitter(seed=42)(df)"
   ]
  },
  {
   "cell_type": "code",
   "execution_count": null,
   "id": "42513540-12ad-4fe0-898d-ec8b93837837",
   "metadata": {},
   "outputs": [],
   "source": [
    "trn_indep, val_indep = t_indep[trn_split], t_indep[val_split]\n",
    "trn_Y, val_Y = Y[trn_split], Y[val_split]\n",
    "len(trn_indep), len(val_indep)"
   ]
  },
  {
   "cell_type": "code",
   "execution_count": null,
   "id": "01dd7808-3a69-48d8-83ea-2c5363052a6b",
   "metadata": {},
   "outputs": [],
   "source": [
    "len(trn_Y), len(val_Y)"
   ]
  },
  {
   "cell_type": "code",
   "execution_count": null,
   "id": "1a000d4a-2325-4973-8745-e0f27baadc8b",
   "metadata": {},
   "outputs": [],
   "source": [
    "def init_coeffs(n_coeff): return (torch.rand(n_coeff)-0.5).requires_grad_()\n",
    "def update_coeffs(coeffs, lr): coeffs.sub_(coeffs.grad * lr)"
   ]
  },
  {
   "cell_type": "code",
   "execution_count": null,
   "id": "b12952e8-36b3-488f-a61a-09ae43f52982",
   "metadata": {},
   "outputs": [],
   "source": [
    "def one_epoch(coeffs, lr):\n",
    "    loss = calc_loss(coeffs, trn_indep, trn_Y)\n",
    "    loss.backward()\n",
    "    with torch.no_grad(): update_coeffs(coeffs, lr)\n",
    "    loss.grad = None\n",
    "    print(f'{loss:.3f}', end=';')"
   ]
  },
  {
   "cell_type": "code",
   "execution_count": null,
   "id": "c039d5bb-09ae-4bd1-9aaa-9479f7096f18",
   "metadata": {},
   "outputs": [],
   "source": [
    "def train_model(epoch=30, lr=0.01):\n",
    "    torch.manual_seed(42)\n",
    "    coeffs = init_coeffs(n_coeff)\n",
    "    for i in range(epoch): one_epoch(coeffs, lr=lr)\n",
    "    return coeffs\n"
   ]
  },
  {
   "cell_type": "code",
   "execution_count": null,
   "id": "3ded6047-fdf8-4eda-b075-934d0428227f",
   "metadata": {},
   "outputs": [],
   "source": [
    "coeffs = train_model(18, lr=0.02)"
   ]
  },
  {
   "cell_type": "code",
   "execution_count": null,
   "id": "217c893b-0c22-48b3-8ea7-27320fe2ddee",
   "metadata": {},
   "outputs": [],
   "source": [
    "def show_coeffs(): return dict(zip(indep_cols, coeffs.requires_grad_(False)))\n",
    "show_coeffs()"
   ]
  },
  {
   "cell_type": "markdown",
   "id": "60be57e1-1b7d-41b7-af05-c302e39a3ea6",
   "metadata": {},
   "source": [
    "## Measuring Accuracy"
   ]
  },
  {
   "cell_type": "code",
   "execution_count": null,
   "id": "f762ffb5-9c1b-43b9-bed4-823c82bb3d8c",
   "metadata": {},
   "outputs": [],
   "source": [
    "preds = calc_preds(coeffs, val_indep)"
   ]
  },
  {
   "cell_type": "code",
   "execution_count": null,
   "id": "c112dbf9-b7ff-4b13-97c4-0f9150798664",
   "metadata": {},
   "outputs": [],
   "source": [
    "results = val_Y.bool() == ( preds > 0.5)\n",
    "results[:10]"
   ]
  },
  {
   "cell_type": "code",
   "execution_count": null,
   "id": "5c57964d-ec93-474e-afc9-ed379ecaaf98",
   "metadata": {},
   "outputs": [],
   "source": [
    "results.float().mean()"
   ]
  },
  {
   "cell_type": "code",
   "execution_count": null,
   "id": "05eee533-7be2-4cdd-a5bd-a74baf6be4be",
   "metadata": {},
   "outputs": [],
   "source": [
    "def acc(coeffs): return (val_Y.bool() == (calc_preds(coeffs, val_indep)>0.5)).float().mean()\n",
    "acc(coeffs)"
   ]
  },
  {
   "cell_type": "markdown",
   "id": "bfc95c64-57f9-46ce-b72e-ee1b78fd5212",
   "metadata": {},
   "source": [
    "## Using sigmoid"
   ]
  },
  {
   "cell_type": "code",
   "execution_count": null,
   "id": "0fc64026-5c8e-4e24-ad01-23c444605264",
   "metadata": {},
   "outputs": [],
   "source": [
    "preds[:20]"
   ]
  },
  {
   "cell_type": "code",
   "execution_count": null,
   "id": "5381440c-bd41-45f2-8fa6-cef36b3eef72",
   "metadata": {},
   "outputs": [],
   "source": [
    "import sympy\n",
    "sympy.plot(\"1/(1+exp(-x))\", xlim=(-10,10))"
   ]
  },
  {
   "cell_type": "code",
   "execution_count": null,
   "id": "b8483124-d138-4240-b97d-1eab16baf69e",
   "metadata": {},
   "outputs": [],
   "source": [
    "def calc_preds(coeffs, indeps): return torch.sigmoid((indeps * coeffs).sum(axis=1))"
   ]
  },
  {
   "cell_type": "code",
   "execution_count": null,
   "id": "1d1c4d8d-6780-41cb-9371-d1338d0726f5",
   "metadata": {},
   "outputs": [],
   "source": [
    "coeffs = train_model(lr=2)"
   ]
  },
  {
   "cell_type": "code",
   "execution_count": null,
   "id": "96ddcd72-25f5-40db-ab7a-cee1d0c0e0d6",
   "metadata": {},
   "outputs": [],
   "source": [
    "acc(coeffs)"
   ]
  },
  {
   "cell_type": "code",
   "execution_count": null,
   "id": "c914ccdb-6dd3-4b0d-a170-ac8dd64b3ae5",
   "metadata": {},
   "outputs": [],
   "source": [
    "show_coeffs()"
   ]
  },
  {
   "cell_type": "markdown",
   "id": "af7270d6-c0f2-460f-896a-559389e5511e",
   "metadata": {},
   "source": [
    "## Submitting to Kaggle\n"
   ]
  },
  {
   "cell_type": "code",
   "execution_count": null,
   "id": "1664988c-6c25-4792-9e85-71a9483ac335",
   "metadata": {},
   "outputs": [],
   "source": [
    "tst_df = pd.read_csv(path/'test.csv')"
   ]
  },
  {
   "cell_type": "code",
   "execution_count": null,
   "id": "5221db85-abab-4d04-a2fe-5048f47683cb",
   "metadata": {},
   "outputs": [],
   "source": [
    "tst_df['Fare'] = tst_df.Fare.fillna(0)\n",
    "tst_df['LogFare'] = np.log1p(tst_df.Fare)\n",
    "\n",
    "tst_df['InCabin'] = tst_df['Cabin'].isna()\n",
    "tst_df.InCabin = tst_df.InCabin.astype(int)"
   ]
  },
  {
   "cell_type": "code",
   "execution_count": null,
   "id": "1c2bb4ad-5884-440b-a89c-2e82780fb068",
   "metadata": {},
   "outputs": [],
   "source": [
    "# in-place replace NaN values with mode.\n",
    "tst_modes = tst_df.mode().iloc[0]\n",
    "tst_df.fillna(tst_modes, inplace=True)\n",
    "tst_df = pd.get_dummies(tst_df, columns=dummy_columns)\n",
    "\n",
    "tst_indep = tensor(tst_df[indep_cols].values, dtype=torch.float)\n",
    "tst_indep = tst_indep / vals\n"
   ]
  },
  {
   "cell_type": "code",
   "execution_count": null,
   "id": "517158ba-2c7b-46ee-9e55-72a066c0f03b",
   "metadata": {},
   "outputs": [],
   "source": [
    "tst_df['Survived'] = (calc_preds(tst_indep, coeffs) > 0.5).int()"
   ]
  },
  {
   "cell_type": "code",
   "execution_count": null,
   "id": "ef6aac7c-c114-4444-b36a-1b579fccbb2b",
   "metadata": {},
   "outputs": [],
   "source": [
    "sub_df = tst_df[['PassengerId', 'Survived']]\n",
    "sub_df.to_csv('sub.csv', index=False)"
   ]
  },
  {
   "cell_type": "code",
   "execution_count": null,
   "id": "e4989f2a-9c56-479f-92b5-482e32bf374f",
   "metadata": {},
   "outputs": [],
   "source": [
    "!head sub.csv"
   ]
  },
  {
   "cell_type": "markdown",
   "id": "27eca5b3-454d-46f3-b506-22d5d6209368",
   "metadata": {},
   "source": [
    "## Using Matrix Product"
   ]
  },
  {
   "cell_type": "code",
   "execution_count": null,
   "id": "88b68b23-48b2-4886-ac1e-4841cb583aa9",
   "metadata": {},
   "outputs": [],
   "source": [
    "(val_indep * coeffs).sum(axis=1)"
   ]
  },
  {
   "cell_type": "code",
   "execution_count": null,
   "id": "c4c26033-bba5-4a21-81b3-4404fe9896a2",
   "metadata": {},
   "outputs": [],
   "source": [
    "val_indep@coeffs"
   ]
  },
  {
   "cell_type": "code",
   "execution_count": null,
   "id": "afaf90c0-3b54-4051-9ec3-0e1f25dd959a",
   "metadata": {},
   "outputs": [],
   "source": [
    "def calc_preds(coeffs, indeps): return torch.sigmoid(indeps@coeffs)"
   ]
  },
  {
   "cell_type": "code",
   "execution_count": null,
   "id": "828ea502-f8f3-4277-8a21-db1562789641",
   "metadata": {},
   "outputs": [],
   "source": [
    "def init_coeffs(n_coeff): return (torch.rand(n_coeff, 1)*0.1).requires_grad_()"
   ]
  },
  {
   "cell_type": "code",
   "execution_count": null,
   "id": "ed792631-82c1-4862-9927-04e80a72bebe",
   "metadata": {},
   "outputs": [],
   "source": [
    "trn_Y = trn_Y[:, None]\n",
    "val_Y = val_Y[:, None]"
   ]
  },
  {
   "cell_type": "code",
   "execution_count": null,
   "id": "a450513e-2a19-408c-afa6-3cc49f2ed842",
   "metadata": {},
   "outputs": [],
   "source": [
    "coeffs = train_model(lr=2)"
   ]
  },
  {
   "cell_type": "code",
   "execution_count": null,
   "id": "8d1b60bf-a873-4b52-8aab-b465b34dd044",
   "metadata": {},
   "outputs": [],
   "source": [
    "acc(coeffs)"
   ]
  },
  {
   "cell_type": "code",
   "execution_count": null,
   "id": "8f61d9f5-2f90-4df5-a2a7-15149b176b6f",
   "metadata": {},
   "outputs": [],
   "source": [
    "coeffs"
   ]
  },
  {
   "cell_type": "markdown",
   "id": "347b1368-0d9b-4c6b-9d63-883c20312bb4",
   "metadata": {},
   "source": [
    "## A Neural Network"
   ]
  },
  {
   "cell_type": "code",
   "execution_count": null,
   "id": "4f76a306-62a8-4a63-9cce-06ee732b49bb",
   "metadata": {},
   "outputs": [],
   "source": [
    "def init_coeffs(n_coeffs, n_hidden=20):\n",
    "    layer1 = (torch.rand(n_coeffs, n_hidden)-0.5)/n_hidden\n",
    "    layer2 = torch.rand(n_hidden, 1)-0.3\n",
    "    const = torch.rand(1)[0]\n",
    "    return layer1.requires_grad_(), layer2.requires_grad_(), const.requires_grad_()\n",
    "\n",
    "              "
   ]
  },
  {
   "cell_type": "code",
   "execution_count": null,
   "id": "ccbbf565-706b-448c-bf5c-3041d907873a",
   "metadata": {},
   "outputs": [],
   "source": [
    "import torch.nn.functional as F\n",
    "\n",
    "def calc_preds(coeffs, indeps):\n",
    "    l1, l2, const = coeffs\n",
    "    res = F.relu(indeps@l1)\n",
    "    res = res@l2 + const\n",
    "    return torch.sigmoid(res)\n"
   ]
  },
  {
   "cell_type": "code",
   "execution_count": null,
   "id": "4f6ddda9-ffac-4f1d-ae1e-b507de886390",
   "metadata": {},
   "outputs": [],
   "source": [
    "def update_coeffs(coeffs, lr):\n",
    "    for layer in coeffs: layer.sub_(layer.grad * lr)"
   ]
  },
  {
   "cell_type": "code",
   "execution_count": null,
   "id": "07babd75-a005-42b1-bcf8-6d7954ce9632",
   "metadata": {},
   "outputs": [],
   "source": [
    "coeffs = train_model(lr=1.4)"
   ]
  },
  {
   "cell_type": "code",
   "execution_count": null,
   "id": "81f11642-f7cf-46c3-b97e-7011bb2f307f",
   "metadata": {},
   "outputs": [],
   "source": [
    "acc(coeffs)"
   ]
  },
  {
   "cell_type": "markdown",
   "id": "d7a3d3bc-5dc8-45a9-ba3f-34401309d150",
   "metadata": {},
   "source": [
    "## Deep Learning"
   ]
  },
  {
   "cell_type": "code",
   "execution_count": null,
   "id": "1dcf1e53-6d1d-40fa-bbf3-8133f5ee0312",
   "metadata": {},
   "outputs": [],
   "source": [
    "def init_coeffs(coeffs):\n",
    "    hiddens = [10,10]\n",
    "    sizes = [n_coeff] + hiddens + [1]\n",
    "    n = len(sizes)\n",
    "    layers = [ (torch.rand(sizes[i], sizes[i+1])-0.5)/sizes[i+1]*3 for i in range(n-1) ]\n",
    "    consts = [ (torch.rand(1)[0]-0.5)*0.1 for i in range(n-1) ]\n",
    "    for l in layers+consts: l.requires_grad_()\n",
    "    return layers, consts\n"
   ]
  },
  {
   "cell_type": "code",
   "execution_count": null,
   "id": "fe025ab3-a880-4af7-8870-86ea01eeaa4f",
   "metadata": {},
   "outputs": [],
   "source": [
    "def calc_preds(coeffs, indeps):\n",
    "    layers, consts = coeffs\n",
    "    n = len(layers)\n",
    "    res = indeps\n",
    "    for i, l in enumerate(layers):\n",
    "        res = res@l + consts[i]\n",
    "        if i!=n-1: res = F.relu(res)\n",
    "    return torch.sigmoid(res)\n"
   ]
  },
  {
   "cell_type": "code",
   "execution_count": null,
   "id": "6c919d6d-d37a-48a3-82c1-12238581ec8a",
   "metadata": {},
   "outputs": [],
   "source": [
    "def update_coeffs(coeffs, lr):\n",
    "    layers, consts = coeffs\n",
    "    for layer in layers+consts: layer.sub_(layer.grad * lr)"
   ]
  },
  {
   "cell_type": "code",
   "execution_count": null,
   "id": "d861d986-8f82-492e-92dd-87fa88ebff26",
   "metadata": {},
   "outputs": [],
   "source": [
    "coeffs = train_model(lr=1.2)"
   ]
  },
  {
   "cell_type": "code",
   "execution_count": null,
   "id": "71bbea7c-e7c2-4d3c-a009-f57f0cafa539",
   "metadata": {},
   "outputs": [],
   "source": [
    "acc(coeffs)"
   ]
  },
  {
   "cell_type": "code",
   "execution_count": null,
   "id": "83ec3cfb-d9fa-46e1-84c0-359c99313cad",
   "metadata": {},
   "outputs": [],
   "source": []
  }
 ],
 "metadata": {
  "kernelspec": {
   "display_name": "Python 3 (ipykernel)",
   "language": "python",
   "name": "python3"
  },
  "language_info": {
   "codemirror_mode": {
    "name": "ipython",
    "version": 3
   },
   "file_extension": ".py",
   "mimetype": "text/x-python",
   "name": "python",
   "nbconvert_exporter": "python",
   "pygments_lexer": "ipython3",
   "version": "3.10.8"
  }
 },
 "nbformat": 4,
 "nbformat_minor": 5
}
