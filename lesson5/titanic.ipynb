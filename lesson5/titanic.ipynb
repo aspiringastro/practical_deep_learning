{
 "cells": [
  {
   "cell_type": "code",
   "execution_count": null,
   "id": "d39d9779-80a5-4e1f-ab67-5e71e0895208",
   "metadata": {},
   "outputs": [],
   "source": [
    "import numpy as np\n",
    "import pandas as pd\n",
    "import matplotlib as ply\n",
    "import os\n",
    "from pathlib import Path"
   ]
  },
  {
   "cell_type": "code",
   "execution_count": null,
   "id": "b6be1a89-60d2-4b67-88df-c22b52722f56",
   "metadata": {},
   "outputs": [],
   "source": [
    "path = Path('titanic')\n",
    "df = pd.read_csv(path/'train.csv')\n",
    "df"
   ]
  },
  {
   "cell_type": "code",
   "execution_count": null,
   "id": "998a7062-4021-4065-a79e-0d403e02f42c",
   "metadata": {},
   "outputs": [],
   "source": [
    "# Find columns containing no values\n",
    "df.isna().sum()"
   ]
  },
  {
   "cell_type": "code",
   "execution_count": null,
   "id": "ff8e8918-0b03-46e4-b466-125e3c8cdc51",
   "metadata": {},
   "outputs": [],
   "source": [
    "# Calculate the mode for each column and fill \n",
    "modes = df.mode().iloc[0]\n",
    "modes"
   ]
  },
  {
   "cell_type": "code",
   "execution_count": null,
   "id": "e9b8f72e-68d4-4ce9-85c2-74cd68e5e6f2",
   "metadata": {},
   "outputs": [],
   "source": [
    "# in-place replace NaN values with mode.\n",
    "df.fillna(modes, inplace=True)\n",
    "df.isna().sum()"
   ]
  },
  {
   "cell_type": "code",
   "execution_count": null,
   "id": "a38b2cee-7b1a-482c-b9c9-d12f94b7560b",
   "metadata": {},
   "outputs": [],
   "source": [
    "df.describe(include=(np.number))"
   ]
  },
  {
   "cell_type": "code",
   "execution_count": null,
   "id": "59c61917-2f99-432f-92b9-5cda88a433fc",
   "metadata": {},
   "outputs": [],
   "source": [
    "df.Age.hist()"
   ]
  },
  {
   "cell_type": "code",
   "execution_count": null,
   "id": "da2e5ad3-4e71-4657-93e3-f19728ffe391",
   "metadata": {},
   "outputs": [],
   "source": [
    "df.Fare.hist()"
   ]
  },
  {
   "cell_type": "code",
   "execution_count": null,
   "id": "e69de6d3-6daa-4eda-a8fd-9c3c302631d8",
   "metadata": {},
   "outputs": [],
   "source": [
    "df['LogFare'] = np.log1p(df.Fare)\n",
    "df.LogFare.hist()"
   ]
  },
  {
   "cell_type": "code",
   "execution_count": null,
   "id": "adb97833-bd6f-4e85-bef7-1a5ef521105f",
   "metadata": {},
   "outputs": [],
   "source": []
  }
 ],
 "metadata": {
  "kernelspec": {
   "display_name": "Python 3 (ipykernel)",
   "language": "python",
   "name": "python3"
  },
  "language_info": {
   "codemirror_mode": {
    "name": "ipython",
    "version": 3
   },
   "file_extension": ".py",
   "mimetype": "text/x-python",
   "name": "python",
   "nbconvert_exporter": "python",
   "pygments_lexer": "ipython3",
   "version": "3.10.8"
  }
 },
 "nbformat": 4,
 "nbformat_minor": 5
}
