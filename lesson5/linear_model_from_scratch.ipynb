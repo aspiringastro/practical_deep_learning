{
 "cells": [
  {
   "cell_type": "code",
   "execution_count": null,
   "id": "ae085215-bfb8-41f8-8fe0-ffd3d8f88d00",
   "metadata": {},
   "outputs": [],
   "source": [
    "from pathlib import Path\n",
    "import os"
   ]
  },
  {
   "cell_type": "code",
   "execution_count": null,
   "id": "a6384d7b-742f-4dd7-b531-ccf995a52fa8",
   "metadata": {},
   "outputs": [],
   "source": [
    "is_kaggle = os.environ.get('KAGGLE_KERNEL_RUN_TYPE', '')\n",
    "if is_kaggle:\n",
    "    path = Path('../input/titanic')\n",
    "    !pip install -Uqq fastai\n",
    "else:\n",
    "    import zipfile, kaggle\n",
    "    path= Path('titanic')\n",
    "    if not path.exists():\n",
    "        kaggle.api.competition_download_cli(str(path))\n",
    "        zipfile.ZipFile(f'{path}.zip').extractall(path)\n",
    "        "
   ]
  },
  {
   "cell_type": "code",
   "execution_count": null,
   "id": "fc8dbab6-5e27-47ed-9796-414cd2dd5469",
   "metadata": {},
   "outputs": [],
   "source": [
    "import torch, numpy as np, pandas as pd\n",
    "np.set_printoptions(linewidth=140)\n",
    "torch.set_printoptions(linewidth=140, sci_mode=False, edgeitems=7)\n",
    "pd.set_option('display.width', 140)"
   ]
  },
  {
   "cell_type": "code",
   "execution_count": null,
   "id": "ccb24a60-444a-4389-9b19-bb4abef5c3c0",
   "metadata": {},
   "outputs": [],
   "source": [
    "df = pd.read_csv(path/'train.csv')\n",
    "df"
   ]
  },
  {
   "cell_type": "code",
   "execution_count": null,
   "id": "b81576ed-5aca-4d24-8f8f-5418b43d22bf",
   "metadata": {},
   "outputs": [],
   "source": [
    "df.isna().sum()"
   ]
  },
  {
   "cell_type": "code",
   "execution_count": null,
   "id": "70927a5c-b154-4a20-92e1-1c743a5c5219",
   "metadata": {},
   "outputs": [],
   "source": [
    "modes = df.mode().iloc[0]\n",
    "modes"
   ]
  },
  {
   "cell_type": "code",
   "execution_count": null,
   "id": "9de93ac8-b305-495a-af73-16db16865973",
   "metadata": {},
   "outputs": [],
   "source": [
    "df.fillna(modes, inplace=True)"
   ]
  },
  {
   "cell_type": "code",
   "execution_count": null,
   "id": "20ec9459-f9e0-46e7-9f09-59bd7f28f7cc",
   "metadata": {},
   "outputs": [],
   "source": [
    "df.isna().sum()"
   ]
  },
  {
   "cell_type": "code",
   "execution_count": null,
   "id": "9494eaa5-52bc-47f8-8fa9-c39d68949949",
   "metadata": {},
   "outputs": [],
   "source": [
    "import numpy as np\n",
    "df.describe(include=(np.number))"
   ]
  },
  {
   "cell_type": "code",
   "execution_count": null,
   "id": "f76e1725-ffb8-4bd7-8f64-8017b1a8c1ef",
   "metadata": {},
   "outputs": [],
   "source": [
    "df.Fare.hist()"
   ]
  },
  {
   "cell_type": "code",
   "execution_count": null,
   "id": "2e649437-a6cd-4f59-a262-1eef198edcce",
   "metadata": {},
   "outputs": [],
   "source": [
    "df['LogFare'] = np.log(df.Fare + 1)\n",
    "df.LogFare.hist()"
   ]
  },
  {
   "cell_type": "code",
   "execution_count": null,
   "id": "3a88f6b3-9048-4aa2-9d75-65a6ca549c2a",
   "metadata": {},
   "outputs": [],
   "source": [
    "pclasses = sorted(df.Pclass.unique())\n",
    "pclasses"
   ]
  },
  {
   "cell_type": "code",
   "execution_count": null,
   "id": "d354f03e-7d76-4243-9c5c-bfb00abed81e",
   "metadata": {},
   "outputs": [],
   "source": [
    "df.describe(include=[object])"
   ]
  },
  {
   "cell_type": "code",
   "execution_count": null,
   "id": "9bb5cc00-d197-48f5-96b0-b891715da460",
   "metadata": {},
   "outputs": [],
   "source": [
    "df = pd.get_dummies(df, columns=['Sex', 'Pclass', 'Embarked'])\n",
    "df.columns"
   ]
  },
  {
   "cell_type": "code",
   "execution_count": null,
   "id": "39b0655b-28b2-4d16-bdd8-ef4690de1d9f",
   "metadata": {},
   "outputs": [],
   "source": [
    "df.head()"
   ]
  },
  {
   "cell_type": "code",
   "execution_count": null,
   "id": "12a70463-52dd-432a-9b32-b3390d4c4a2f",
   "metadata": {},
   "outputs": [],
   "source": [
    "from torch import tensor\n",
    "t_dep = tensor(df.Survived)\n",
    "t_dep"
   ]
  },
  {
   "cell_type": "code",
   "execution_count": null,
   "id": "04e70ade-ec4f-48ac-a039-82bad85e1d5e",
   "metadata": {},
   "outputs": [],
   "source": [
    "added_cols = ['Sex_male', 'Sex_female', 'Pclass_1', 'Pclass_2', 'Pclass_3', 'Embarked_C', 'Embarked_Q', 'Embarked_S']\n",
    "df[added_cols].head()"
   ]
  },
  {
   "cell_type": "code",
   "execution_count": null,
   "id": "59fdc60c-32a8-4291-b7bc-813737e828c9",
   "metadata": {},
   "outputs": [],
   "source": [
    "indep_cols = ['Age', 'SibSp', 'Parch', 'LogFare'] + added_cols\n",
    "\n",
    "t_indep = tensor(df[indep_cols].values, dtype=torch.float)\n",
    "t_indep\n"
   ]
  },
  {
   "cell_type": "code",
   "execution_count": null,
   "id": "adcea846-6ca6-4c89-80b6-28e6dc277c47",
   "metadata": {},
   "outputs": [],
   "source": [
    "t_indep.shape"
   ]
  },
  {
   "cell_type": "code",
   "execution_count": null,
   "id": "7e66f3b7-86c0-49d0-b04f-e069a5375bac",
   "metadata": {},
   "outputs": [],
   "source": [
    "torch.manual_seed(442)\n",
    "\n",
    "n_coeff = t_indep.shape[1]\n",
    "coeffs = torch.rand(n_coeff)-0.5\n",
    "coeffs\n"
   ]
  },
  {
   "cell_type": "code",
   "execution_count": null,
   "id": "03fe31da-4416-4e7d-adbe-7ce88bea548d",
   "metadata": {},
   "outputs": [],
   "source": [
    "t_indep*coeffs"
   ]
  },
  {
   "cell_type": "code",
   "execution_count": null,
   "id": "77748bd9-00a1-4a1d-9d42-d791e6cc1cc3",
   "metadata": {},
   "outputs": [],
   "source": [
    "vals,indices = t_indep.max(dim=0)\n",
    "t_indep = t_indep / vals\n"
   ]
  },
  {
   "cell_type": "code",
   "execution_count": null,
   "id": "02bc143a-4931-49d1-b996-14a66ff318c2",
   "metadata": {},
   "outputs": [],
   "source": [
    "t_indep*coeffs"
   ]
  },
  {
   "cell_type": "code",
   "execution_count": null,
   "id": "c005c302-341d-4288-a028-b4e4b7aef30e",
   "metadata": {},
   "outputs": [],
   "source": [
    "preds = (t_indep*coeffs).sum(axis=1)\n",
    "preds[:10]"
   ]
  },
  {
   "cell_type": "code",
   "execution_count": null,
   "id": "667b1014-f2f2-4c44-a3c0-6a425e3d7bd4",
   "metadata": {},
   "outputs": [],
   "source": [
    "loss = torch.abs(preds-t_dep).mean()\n",
    "loss"
   ]
  },
  {
   "cell_type": "code",
   "execution_count": null,
   "id": "90e801b2-953d-4b21-a9bf-98c1a8b69c72",
   "metadata": {},
   "outputs": [],
   "source": [
    "def calc_preds(coeffs, indeps): return (indeps*coeffs).sum(axis=1)\n",
    "def calc_loss(coeffs, indeps, deps): return torch.abs(calc_preds(coeffs, indeps)-deps).mean()\n"
   ]
  },
  {
   "cell_type": "code",
   "execution_count": null,
   "id": "afe02c9c-3add-4bbb-a257-99c4fc3d7bef",
   "metadata": {},
   "outputs": [],
   "source": [
    "coeffs.requires_grad_()"
   ]
  },
  {
   "cell_type": "code",
   "execution_count": null,
   "id": "a866812d-e383-4178-9da4-127990ae08a3",
   "metadata": {},
   "outputs": [],
   "source": [
    "loss = calc_loss(coeffs, t_indep, t_dep)\n",
    "loss"
   ]
  },
  {
   "cell_type": "code",
   "execution_count": null,
   "id": "36bf7bb8-b8f5-4f02-82f6-ec311e17fd02",
   "metadata": {},
   "outputs": [],
   "source": [
    "loss.backward()"
   ]
  },
  {
   "cell_type": "code",
   "execution_count": null,
   "id": "e1838c62-5235-4a26-928c-8fd611e584fe",
   "metadata": {},
   "outputs": [],
   "source": [
    "coeffs.grad"
   ]
  },
  {
   "cell_type": "code",
   "execution_count": null,
   "id": "92cb9612-8197-4f4a-a244-685f51e7e025",
   "metadata": {},
   "outputs": [],
   "source": [
    "loss = calc_loss(coeffs, t_indep, t_dep)\n",
    "loss.backward()\n",
    "coeffs.grad"
   ]
  },
  {
   "cell_type": "code",
   "execution_count": null,
   "id": "e0f68624-defd-4269-b709-ec414133ff59",
   "metadata": {},
   "outputs": [],
   "source": [
    "loss = calc_loss(coeffs, t_indep, t_dep)\n",
    "loss.backward()\n",
    "with torch.no_grad():\n",
    "    coeffs.sub_(coeffs.grad * 0.1)\n",
    "    coeffs.grad.zero_()\n",
    "    print(calc_loss(coeffs, t_indep, t_dep))"
   ]
  },
  {
   "cell_type": "code",
   "execution_count": null,
   "id": "eb69764c-e06d-4dde-92b0-5b064b774dff",
   "metadata": {},
   "outputs": [],
   "source": [
    "from fastai.data.transforms import RandomSplitter\n",
    "trn_split,val_split=RandomSplitter(seed=42)(df)"
   ]
  },
  {
   "cell_type": "code",
   "execution_count": null,
   "id": "37d2b0b1-140b-4643-a4c0-87c15c01855c",
   "metadata": {},
   "outputs": [],
   "source": [
    "trn_indep,val_indep = t_indep[trn_split],t_indep[val_split]\n",
    "trn_dep,val_dep = t_dep[trn_split],t_dep[val_split]\n",
    "len(trn_indep),len(val_indep)"
   ]
  },
  {
   "cell_type": "code",
   "execution_count": null,
   "id": "e1fd0ac4-c0aa-4693-b413-8ed0273fc612",
   "metadata": {},
   "outputs": [],
   "source": [
    "def update_coeffs(coeffs, lr):\n",
    "    coeffs.sub_(coeffs.grad * lr)\n",
    "    coeffs.grad.zero_()"
   ]
  },
  {
   "cell_type": "code",
   "execution_count": null,
   "id": "24ecbcf3-0f1a-4582-be6d-cea925d7163f",
   "metadata": {},
   "outputs": [],
   "source": [
    "def one_epoch(coeffs, lr):\n",
    "    loss = calc_loss(coeffs, trn_indep, trn_dep)\n",
    "    loss.backward()\n",
    "    with torch.no_grad(): update_coeffs(coeffs, lr)\n",
    "    print(f\"{loss:.3f}\", end=\"; \")"
   ]
  },
  {
   "cell_type": "code",
   "execution_count": null,
   "id": "4208d9f4-5307-449a-aaf6-dea924de6ee1",
   "metadata": {},
   "outputs": [],
   "source": [
    "def init_coeffs(): return (torch.rand(n_coeff)-0.5).requires_grad_()"
   ]
  },
  {
   "cell_type": "code",
   "execution_count": null,
   "id": "e4cbc7b0-cf8e-4b52-9cc3-690bb92dd5ed",
   "metadata": {},
   "outputs": [],
   "source": [
    "def train_model(epochs=30, lr=0.01):\n",
    "    torch.manual_seed(442)\n",
    "    coeffs = init_coeffs()\n",
    "    for i in range(epochs): one_epoch(coeffs, lr=lr)\n",
    "    return coeffs"
   ]
  },
  {
   "cell_type": "code",
   "execution_count": null,
   "id": "8c6f19b1-24a6-480f-bb72-ebf4ed950eeb",
   "metadata": {},
   "outputs": [],
   "source": [
    "coeffs = train_model(18, lr=0.2)"
   ]
  },
  {
   "cell_type": "code",
   "execution_count": null,
   "id": "9ff80397-d4b9-420b-bc8e-2d71fdcd8c4a",
   "metadata": {},
   "outputs": [],
   "source": [
    "def show_coeffs(): return dict(zip(indep_cols, coeffs.requires_grad_(False)))\n",
    "show_coeffs()"
   ]
  },
  {
   "cell_type": "code",
   "execution_count": null,
   "id": "41874f73-4d83-4f7c-a86f-015acdd91314",
   "metadata": {},
   "outputs": [],
   "source": [
    "preds = calc_preds(coeffs, val_indep)"
   ]
  },
  {
   "cell_type": "code",
   "execution_count": null,
   "id": "6afb61a0-949a-421a-9605-98b7ef0fbb88",
   "metadata": {},
   "outputs": [],
   "source": [
    "results = val_dep.bool()==(preds>0.5)\n",
    "results[:16]"
   ]
  },
  {
   "cell_type": "code",
   "execution_count": null,
   "id": "44636a1b-e8a4-4570-8237-9b6a2b8751f1",
   "metadata": {},
   "outputs": [],
   "source": [
    "results.float().mean()"
   ]
  },
  {
   "cell_type": "code",
   "execution_count": null,
   "id": "e6e38845-18ea-421b-8cf5-87dfb9459447",
   "metadata": {},
   "outputs": [],
   "source": [
    "def acc(coeffs): return (val_dep.bool()==(calc_preds(coeffs, val_indep)>0.5)).float().mean()\n",
    "acc(coeffs)\n"
   ]
  },
  {
   "cell_type": "code",
   "execution_count": null,
   "id": "bd5465ea-b6d5-4e61-b31f-7f2b8737bffa",
   "metadata": {},
   "outputs": [],
   "source": [
    "preds[:28]"
   ]
  },
  {
   "cell_type": "code",
   "execution_count": null,
   "id": "28440a87-87d5-42b5-aced-1dbc80200d9b",
   "metadata": {},
   "outputs": [],
   "source": [
    "import sympy\n",
    "sympy.plot(\"1/(1+exp(-x))\", xlim=(-5,5));"
   ]
  },
  {
   "cell_type": "code",
   "execution_count": null,
   "id": "152bbdb8-281d-476e-ba09-b2c410af2087",
   "metadata": {},
   "outputs": [],
   "source": [
    "def calc_preds(coeffs, indeps): return torch.sigmoid((indeps*coeffs).sum(axis=1))"
   ]
  },
  {
   "cell_type": "code",
   "execution_count": null,
   "id": "efd18e65-5d74-4712-b333-f3cdc6425287",
   "metadata": {},
   "outputs": [],
   "source": [
    "coeffs = train_model(lr=100)"
   ]
  },
  {
   "cell_type": "code",
   "execution_count": null,
   "id": "e8e13a8b-d608-4280-859b-98eb09ac8ded",
   "metadata": {},
   "outputs": [],
   "source": [
    "acc(coeffs)"
   ]
  },
  {
   "cell_type": "code",
   "execution_count": null,
   "id": "12b55c9a-15bb-4ea5-b153-f35b2c618d99",
   "metadata": {},
   "outputs": [],
   "source": [
    "show_coeffs()"
   ]
  },
  {
   "cell_type": "code",
   "execution_count": null,
   "id": "a5508c82-acd8-4a60-9e68-5db00779e836",
   "metadata": {},
   "outputs": [],
   "source": [
    "tst_df = pd.read_csv(path/'test.csv')\n"
   ]
  },
  {
   "cell_type": "code",
   "execution_count": null,
   "id": "41ba0e66-cd28-4c1a-8c17-b08d8e5beac4",
   "metadata": {},
   "outputs": [],
   "source": [
    "tst_df['Fare'] = tst_df.Fare.fillna(0)"
   ]
  },
  {
   "cell_type": "code",
   "execution_count": null,
   "id": "7737cbaa-ee22-441e-9a52-31f9848e5789",
   "metadata": {},
   "outputs": [],
   "source": [
    "tst_df.fillna(modes, inplace=True)\n",
    "tst_df['LogFare'] = np.log(tst_df['Fare']+1)\n",
    "tst_df = pd.get_dummies(tst_df, columns=[\"Sex\",\"Pclass\",\"Embarked\"])\n",
    "\n",
    "tst_indep = tensor(tst_df[indep_cols].values, dtype=torch.float)\n",
    "tst_indep = tst_indep / vals"
   ]
  },
  {
   "cell_type": "code",
   "execution_count": null,
   "id": "1b10bef2-0f3d-4c3e-a157-4bbcbdee4e9f",
   "metadata": {},
   "outputs": [],
   "source": [
    "tst_df['Survived'] = (calc_preds(tst_indep, coeffs)>0.5).int()"
   ]
  },
  {
   "cell_type": "code",
   "execution_count": null,
   "id": "6a3dfcd9-fa68-4c11-aace-f4e9d57c738a",
   "metadata": {},
   "outputs": [],
   "source": [
    "sub_df = tst_df[['PassengerId','Survived']]\n",
    "sub_df.to_csv('sub.csv', index=False)"
   ]
  },
  {
   "cell_type": "code",
   "execution_count": null,
   "id": "4734fa1c-75f6-47ff-8991-aa53400bb990",
   "metadata": {},
   "outputs": [],
   "source": [
    "!head sub.csv"
   ]
  },
  {
   "cell_type": "code",
   "execution_count": null,
   "id": "d39ff0c4-967f-42ff-961e-3810b3a5ced8",
   "metadata": {},
   "outputs": [],
   "source": [
    "val_indep@coeffs"
   ]
  },
  {
   "cell_type": "code",
   "execution_count": null,
   "id": "cfaf827e-6947-4fb0-b22b-e7184d6904d4",
   "metadata": {},
   "outputs": [],
   "source": [
    "def calc_preds(coeffs, indeps): return torch.sigmoid(indeps@coeffs)"
   ]
  },
  {
   "cell_type": "code",
   "execution_count": null,
   "id": "e1f2a14b-96ce-4b52-98ae-fa065c3194d0",
   "metadata": {},
   "outputs": [],
   "source": [
    "def init_coeffs(): return (torch.rand(n_coeff, 1)*0.1).requires_grad_()"
   ]
  },
  {
   "cell_type": "code",
   "execution_count": null,
   "id": "b486f777-6368-4dbf-809b-cb512b813b3b",
   "metadata": {},
   "outputs": [],
   "source": [
    "trn_dep = trn_dep[:,None]\n",
    "val_dep = val_dep[:,None]"
   ]
  },
  {
   "cell_type": "code",
   "execution_count": null,
   "id": "a009f059-0779-45c8-82bc-e6df7331962b",
   "metadata": {},
   "outputs": [],
   "source": [
    "coeffs = train_model(lr=100)"
   ]
  },
  {
   "cell_type": "code",
   "execution_count": null,
   "id": "c983b9c1-81ee-49a1-943c-9d3ba729c3e4",
   "metadata": {},
   "outputs": [],
   "source": [
    "acc(coeffs)"
   ]
  },
  {
   "cell_type": "code",
   "execution_count": null,
   "id": "de5d1c02-1cbc-446e-b5cc-58286f482fdb",
   "metadata": {},
   "outputs": [],
   "source": [
    "from fastai.data.transforms import RandomSplitter\n",
    "trn_split,val_split=RandomSplitter(seed=42)(df)\n"
   ]
  },
  {
   "cell_type": "code",
   "execution_count": null,
   "id": "2d2e3406-1225-4be0-b5ba-87aea3a449fe",
   "metadata": {},
   "outputs": [],
   "source": [
    "trn_indep,val_indep = t_indep[trn_split],t_indep[val_split]\n",
    "trn_dep,val_dep = t_dep[trn_split],t_dep[val_split]\n",
    "len(trn_indep),len(val_indep)"
   ]
  },
  {
   "cell_type": "code",
   "execution_count": null,
   "id": "678b587c-e2fc-44d5-a919-abcfd3d88647",
   "metadata": {},
   "outputs": [],
   "source": [
    "def update_coeffs(coeffs, lr):\n",
    "    coeffs.sub_(coeffs.grad * lr)\n",
    "    coeffs.grad.zero_()"
   ]
  },
  {
   "cell_type": "code",
   "execution_count": null,
   "id": "72491c06-f659-423c-a24f-838b1fbfce1c",
   "metadata": {},
   "outputs": [],
   "source": [
    "def one_epoch(coeffs, lr):\n",
    "    loss = calc_loss(coeffs, trn_indep, trn_dep)\n",
    "    loss.backward()\n",
    "    with torch.no_grad(): update_coeffs(coeffs, lr)\n",
    "    print(f\"{loss:.3f}\", end=\"; \")"
   ]
  },
  {
   "cell_type": "code",
   "execution_count": null,
   "id": "da8479b9-112e-42d9-9142-7c3f886e0122",
   "metadata": {},
   "outputs": [],
   "source": [
    "def init_coeffs(): return (torch.rand(n_coeff)-0.5).requires_grad_()\n"
   ]
  },
  {
   "cell_type": "code",
   "execution_count": null,
   "id": "9ccef3e8-1295-4295-9ea3-e6d52a2d214c",
   "metadata": {},
   "outputs": [],
   "source": [
    "def train_model(epochs=30, lr=0.01):\n",
    "    torch.manual_seed(442)\n",
    "    coeffs = init_coeffs()\n",
    "    for i in range(epochs): one_epoch(coeffs, lr=lr)\n",
    "    return coeffs"
   ]
  },
  {
   "cell_type": "code",
   "execution_count": null,
   "id": "b4eecaff-9190-4c67-b8d9-319a54cdd86b",
   "metadata": {},
   "outputs": [],
   "source": [
    "coeffs = train_model(18, lr=0.2)"
   ]
  },
  {
   "cell_type": "code",
   "execution_count": null,
   "id": "2d88b47c-2fef-4aed-a7d7-c1a8bb7a168b",
   "metadata": {},
   "outputs": [],
   "source": [
    "def show_coeffs(): return dict(zip(indep_cols, coeffs.requires_grad_(False)))\n",
    "show_coeffs()"
   ]
  },
  {
   "cell_type": "code",
   "execution_count": null,
   "id": "1925a63a-0f0a-444b-b570-bd096e39c567",
   "metadata": {},
   "outputs": [],
   "source": [
    "preds = calc_preds(coeffs, val_indep)"
   ]
  },
  {
   "cell_type": "code",
   "execution_count": null,
   "id": "536068a8-f66a-40d4-b669-a23794f3dda7",
   "metadata": {},
   "outputs": [],
   "source": [
    "results = val_dep.bool()==(preds>0.5)\n",
    "results[:16]"
   ]
  },
  {
   "cell_type": "code",
   "execution_count": null,
   "id": "49c858a1-fd1b-4508-a180-73eaf993a9ee",
   "metadata": {},
   "outputs": [],
   "source": [
    "results.float().mean()"
   ]
  },
  {
   "cell_type": "code",
   "execution_count": null,
   "id": "417cc969-a81f-4104-ac01-956501db4a04",
   "metadata": {},
   "outputs": [],
   "source": [
    "def acc(coeffs): return (val_dep.bool()==(calc_preds(coeffs, val_indep)>0.5)).float().mean()\n",
    "acc(coeffs)"
   ]
  },
  {
   "cell_type": "code",
   "execution_count": null,
   "id": "8a326aa5-cdf4-499f-ba1b-303508cbd3ae",
   "metadata": {},
   "outputs": [],
   "source": []
  }
 ],
 "metadata": {
  "kernelspec": {
   "display_name": "Python 3 (ipykernel)",
   "language": "python",
   "name": "python3"
  },
  "language_info": {
   "codemirror_mode": {
    "name": "ipython",
    "version": 3
   },
   "file_extension": ".py",
   "mimetype": "text/x-python",
   "name": "python",
   "nbconvert_exporter": "python",
   "pygments_lexer": "ipython3",
   "version": "3.10.8"
  }
 },
 "nbformat": 4,
 "nbformat_minor": 5
}
