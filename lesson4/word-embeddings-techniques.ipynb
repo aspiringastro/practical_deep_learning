{
 "cells": [
  {
   "cell_type": "code",
   "execution_count": null,
   "id": "21d366db-a19a-4697-b3c0-e6c35c806c85",
   "metadata": {},
   "outputs": [],
   "source": [
    "# Understanding Deep Learning for NLP\n",
    "# The focus on this notebook is to understand the word embdeddings which are prerequisites for word classification\n",
    "# problems\n",
    "\n",
    "# one-hot vector embeddings - vector space unique to the the size of vocabulary - naive but works for simple problems with limited vocab. There \n",
    "# are weaknesses, large and sparse vectors and semantically, there is no way to create similarity or correlation between similar words\n",
    "\n"
   ]
  },
  {
   "cell_type": "code",
   "execution_count": null,
   "id": "60833a11-7ae4-4c89-b24d-b8969dfb229e",
   "metadata": {},
   "outputs": [],
   "source": [
    "\n",
    "# We want richer representations expressing semantic similarity.\n",
    "#\n",
    "# You shall know a word by the company it keeps. - J.R. Firth (1957)\n",
    "# Idea: Produce dense vector representations based on the context/use of words\n",
    "# Approaches: Count-based, Predictive and Task-based\n",
    "# "
   ]
  },
  {
   "cell_type": "code",
   "execution_count": null,
   "id": "d92ab70b-5055-49ab-8505-855c9ffd9d61",
   "metadata": {},
   "outputs": [],
   "source": [
    "#\n",
    "# Count-based Methods\n",
    "#\n",
    "# Define a basis vocabulary C of context words\n",
    "#\n",
    "# Define a word window of size W\n",
    "#\n",
    "# Count the basis vocabulary words occurring w words to the left or right of eachh instance of a target word in the corpus\n",
    "#\n",
    "# Form a vector representation of the target word based on these counts\n"
   ]
  }
 ],
 "metadata": {
  "kernelspec": {
   "display_name": "Python 3 (ipykernel)",
   "language": "python",
   "name": "python3"
  },
  "language_info": {
   "codemirror_mode": {
    "name": "ipython",
    "version": 3
   },
   "file_extension": ".py",
   "mimetype": "text/x-python",
   "name": "python",
   "nbconvert_exporter": "python",
   "pygments_lexer": "ipython3",
   "version": "3.10.8"
  }
 },
 "nbformat": 4,
 "nbformat_minor": 5
}
